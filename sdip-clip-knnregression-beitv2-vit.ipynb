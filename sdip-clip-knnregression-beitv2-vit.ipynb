{
 "cells": [
  {
   "cell_type": "code",
   "execution_count": 1,
   "id": "db76e524",
   "metadata": {
    "execution": {
     "iopub.execute_input": "2023-05-09T04:22:28.804985Z",
     "iopub.status.busy": "2023-05-09T04:22:28.804609Z",
     "iopub.status.idle": "2023-05-09T04:22:28.815841Z",
     "shell.execute_reply": "2023-05-09T04:22:28.814957Z"
    },
    "papermill": {
     "duration": 0.025704,
     "end_time": "2023-05-09T04:22:28.818119",
     "exception": false,
     "start_time": "2023-05-09T04:22:28.792415",
     "status": "completed"
    },
    "tags": []
   },
   "outputs": [],
   "source": [
    "ratio_beitv2 = 0.3\n",
    "ratio_beit_b = 0.1\n",
    "ratio_vit_l = 0.2\n",
    "ratio_KNN = 0.5"
   ]
  },
  {
   "cell_type": "markdown",
   "id": "393ccec5",
   "metadata": {
    "papermill": {
     "duration": 0.009482,
     "end_time": "2023-05-09T04:22:28.837448",
     "exception": false,
     "start_time": "2023-05-09T04:22:28.827966",
     "status": "completed"
    },
    "tags": []
   },
   "source": [
    "#### <a id=\"top\"></a>\n",
    "# <div style=\"box-shadow: rgb(60, 121, 245) 0px 0px 0px 3px inset, rgb(255, 255, 255) 10px -10px 0px -3px, rgb(31, 193, 27) 10px -10px, rgb(255, 255, 255) 20px -20px 0px -3px, rgb(255, 217, 19) 20px -20px, rgb(255, 255, 255) 30px -30px 0px -3px, rgb(255, 156, 85) 30px -30px, rgb(255, 255, 255) 40px -40px 0px -3px, rgb(255, 85, 85) 40px -40px; padding:20px; margin-right: 40px; font-size:30px; font-family: consolas; text-align:center; display:fill; border-radius:15px; color:rgb(60, 121, 245);\"><b> beitv2-Large_patch16-224 </b></div>"
   ]
  },
  {
   "cell_type": "code",
   "execution_count": 2,
   "id": "b3d4af8f",
   "metadata": {
    "execution": {
     "iopub.execute_input": "2023-05-09T04:22:28.857633Z",
     "iopub.status.busy": "2023-05-09T04:22:28.857331Z",
     "iopub.status.idle": "2023-05-09T04:22:52.514684Z",
     "shell.execute_reply": "2023-05-09T04:22:52.513235Z"
    },
    "papermill": {
     "duration": 23.670838,
     "end_time": "2023-05-09T04:22:52.517784",
     "exception": false,
     "start_time": "2023-05-09T04:22:28.846946",
     "status": "completed"
    },
    "tags": []
   },
   "outputs": [
    {
     "name": "stdout",
     "output_type": "stream",
     "text": [
      "timm                                   0.6.12\r\n",
      "\u001b[33mWARNING: There was an error checking the latest version of pip.\u001b[0m\u001b[33m\r\n",
      "\u001b[0m"
     ]
    }
   ],
   "source": [
    "!pip list | grep timm"
   ]
  },
  {
   "cell_type": "code",
   "execution_count": 3,
   "id": "accae80b",
   "metadata": {
    "execution": {
     "iopub.execute_input": "2023-05-09T04:22:52.543034Z",
     "iopub.status.busy": "2023-05-09T04:22:52.542580Z",
     "iopub.status.idle": "2023-05-09T04:22:57.551601Z",
     "shell.execute_reply": "2023-05-09T04:22:57.549573Z"
    },
    "papermill": {
     "duration": 5.025756,
     "end_time": "2023-05-09T04:22:57.554898",
     "exception": false,
     "start_time": "2023-05-09T04:22:52.529142",
     "status": "completed"
    },
    "tags": []
   },
   "outputs": [],
   "source": [
    "import numpy as np\n",
    "import pandas as pd\n",
    "from pathlib import Path\n",
    "from PIL import Image\n",
    "from tqdm.notebook import tqdm\n",
    "import torch\n",
    "from torch.utils.data import Dataset, DataLoader\n",
    "from torchvision import transforms\n",
    "from torch.nn.parallel import DataParallel\n",
    "import timm\n",
    "from sklearn.preprocessing import normalize\n",
    "\n",
    "import gc"
   ]
  },
  {
   "cell_type": "code",
   "execution_count": 4,
   "id": "7f1f373b",
   "metadata": {
    "execution": {
     "iopub.execute_input": "2023-05-09T04:22:57.578161Z",
     "iopub.status.busy": "2023-05-09T04:22:57.577861Z",
     "iopub.status.idle": "2023-05-09T04:22:57.587119Z",
     "shell.execute_reply": "2023-05-09T04:22:57.586226Z"
    },
    "papermill": {
     "duration": 0.02245,
     "end_time": "2023-05-09T04:22:57.589363",
     "exception": false,
     "start_time": "2023-05-09T04:22:57.566913",
     "status": "completed"
    },
    "tags": []
   },
   "outputs": [
    {
     "data": {
      "text/plain": [
       "['beit_large_patch16_224',\n",
       " 'beit_large_patch16_224_in22k',\n",
       " 'beit_large_patch16_384',\n",
       " 'beit_large_patch16_512']"
      ]
     },
     "execution_count": 4,
     "metadata": {},
     "output_type": "execute_result"
    }
   ],
   "source": [
    "timm.list_models('beit_large_patch16*', pretrained=True)"
   ]
  },
  {
   "cell_type": "code",
   "execution_count": 5,
   "id": "423a8460",
   "metadata": {
    "execution": {
     "iopub.execute_input": "2023-05-09T04:22:57.609687Z",
     "iopub.status.busy": "2023-05-09T04:22:57.609198Z",
     "iopub.status.idle": "2023-05-09T04:22:57.615516Z",
     "shell.execute_reply": "2023-05-09T04:22:57.614642Z"
    },
    "papermill": {
     "duration": 0.018922,
     "end_time": "2023-05-09T04:22:57.617738",
     "exception": false,
     "start_time": "2023-05-09T04:22:57.598816",
     "status": "completed"
    },
    "tags": []
   },
   "outputs": [],
   "source": [
    "class CFG:\n",
    "    model_path1 = '/kaggle/input/train-beit-large-patch16-224/beitv2_large_patch16_224_in22k.pth'\n",
    "    model_name1 = 'beitv2_large_patch16_224_in22k'\n",
    "    input_size1 = 224\n",
    "    \n",
    "    model_path2 = '/kaggle/input/saved-vit-model/vit_large_patch16_384_1_64_0.0001_0.6564.pth'\n",
    "    model_name2 = 'vit_large_patch16_384'\n",
    "    input_size2 = 384\n",
    "    \n",
    "    model_path3 = '/kaggle/input/train-beitv2-base-patch16-224/beitv2_base_patch16_224_in22k.pth'    \n",
    "    model_name3 = 'beitv2_base_patch16_224_in22k'\n",
    "    input_size3 = 224\n",
    "    \n",
    "    batch_size = 64"
   ]
  },
  {
   "cell_type": "code",
   "execution_count": 6,
   "id": "13544549",
   "metadata": {
    "execution": {
     "iopub.execute_input": "2023-05-09T04:22:57.637980Z",
     "iopub.status.busy": "2023-05-09T04:22:57.637719Z",
     "iopub.status.idle": "2023-05-09T04:22:57.643409Z",
     "shell.execute_reply": "2023-05-09T04:22:57.642331Z"
    },
    "papermill": {
     "duration": 0.01872,
     "end_time": "2023-05-09T04:22:57.645866",
     "exception": false,
     "start_time": "2023-05-09T04:22:57.627146",
     "status": "completed"
    },
    "tags": []
   },
   "outputs": [],
   "source": [
    "class DiffusionTestDataset(Dataset):\n",
    "    def __init__(self, images, transform):\n",
    "        self.images = images\n",
    "        self.transform = transform\n",
    "    \n",
    "    def __len__(self):\n",
    "        return len(self.images)\n",
    "\n",
    "    def __getitem__(self, idx):\n",
    "        image = Image.open(self.images[idx])\n",
    "        image = self.transform(image)\n",
    "        return image"
   ]
  },
  {
   "cell_type": "code",
   "execution_count": 7,
   "id": "ba31c134",
   "metadata": {
    "execution": {
     "iopub.execute_input": "2023-05-09T04:22:57.665839Z",
     "iopub.status.busy": "2023-05-09T04:22:57.665581Z",
     "iopub.status.idle": "2023-05-09T04:22:57.676132Z",
     "shell.execute_reply": "2023-05-09T04:22:57.675225Z"
    },
    "papermill": {
     "duration": 0.022965,
     "end_time": "2023-05-09T04:22:57.678183",
     "exception": false,
     "start_time": "2023-05-09T04:22:57.655218",
     "status": "completed"
    },
    "tags": []
   },
   "outputs": [],
   "source": [
    "def predict(\n",
    "    images,\n",
    "    model_path,\n",
    "    model_name,\n",
    "    input_size,\n",
    "    batch_size\n",
    "):\n",
    "    device = torch.device('cuda' if torch.cuda.is_available() else 'cpu')\n",
    "    transform = transforms.Compose([\n",
    "        transforms.Resize(input_size),\n",
    "        transforms.RandomHorizontalFlip(p=0.5),\n",
    "        #transforms.RandomRotation(degrees=10),\n",
    "\n",
    "        #transforms.RandomVerticalFlip(p=0.5),\n",
    "        transforms.ToTensor(),\n",
    "        transforms.Normalize([0.5, 0.5, 0.5], [0.5, 0.5, 0.5]),\n",
    "    ])\n",
    "    dataset = DiffusionTestDataset(images, transform)\n",
    "    dataloader = DataLoader(\n",
    "        dataset=dataset,\n",
    "        shuffle=False,\n",
    "        batch_size=batch_size,\n",
    "        pin_memory=True,\n",
    "        num_workers=2,\n",
    "        drop_last=False\n",
    "    )\n",
    "    model = timm.create_model(model_name, pretrained=False,num_classes=384)\n",
    "    model = DataParallel(model)\n",
    "    \n",
    "    state_dict = torch.load(model_path)\n",
    "    model.load_state_dict(state_dict)\n",
    "    model.to(device)\n",
    "    model.eval()\n",
    "    \n",
    "    tta_preds = None\n",
    "    for _ in range(2):\n",
    "        preds = []\n",
    "        for X in tqdm(dataloader, leave=False):\n",
    "            X = X.to(device)\n",
    "\n",
    "            with torch.no_grad():\n",
    "                X_out = model(X).cpu().numpy()\n",
    "                # L2 normalize -- Start\n",
    "                X_out = X_out / ( np.abs(X_out).max(axis=-1, keepdims=True) + 0.0000001)  # To avoid to overflow at normalize()\n",
    "                X_out = normalize( X_out )\n",
    "                # L2 normalize -- End\n",
    "                preds.append(X_out)\n",
    "                \n",
    "        if tta_preds is None:\n",
    "            tta_preds = np.vstack(preds).flatten()\n",
    "        else:\n",
    "            tta_preds += np.vstack(preds).flatten()\n",
    "    \n",
    "    return tta_preds / 2"
   ]
  },
  {
   "cell_type": "code",
   "execution_count": 8,
   "id": "d7b5bee9",
   "metadata": {
    "execution": {
     "iopub.execute_input": "2023-05-09T04:22:57.698988Z",
     "iopub.status.busy": "2023-05-09T04:22:57.698083Z",
     "iopub.status.idle": "2023-05-09T04:23:35.770478Z",
     "shell.execute_reply": "2023-05-09T04:23:35.769076Z"
    },
    "papermill": {
     "duration": 38.085695,
     "end_time": "2023-05-09T04:23:35.773583",
     "exception": false,
     "start_time": "2023-05-09T04:22:57.687888",
     "status": "completed"
    },
    "tags": []
   },
   "outputs": [
    {
     "name": "stderr",
     "output_type": "stream",
     "text": [
      "/opt/conda/lib/python3.7/site-packages/torch/functional.py:504: UserWarning: torch.meshgrid: in an upcoming release, it will be required to pass the indexing argument. (Triggered internally at /usr/local/src/pytorch/aten/src/ATen/native/TensorShape.cpp:3190.)\n",
      "  return _VF.meshgrid(tensors, **kwargs)  # type: ignore[attr-defined]\n"
     ]
    },
    {
     "data": {
      "application/vnd.jupyter.widget-view+json": {
       "model_id": "8d753ae693e64e8cba8f10eadc10026e",
       "version_major": 2,
       "version_minor": 0
      },
      "text/plain": [
       "  0%|          | 0/1 [00:00<?, ?it/s]"
      ]
     },
     "metadata": {},
     "output_type": "display_data"
    },
    {
     "data": {
      "application/vnd.jupyter.widget-view+json": {
       "model_id": "562793b4193a4c04bd7f3500178fa0e2",
       "version_major": 2,
       "version_minor": 0
      },
      "text/plain": [
       "  0%|          | 0/1 [00:00<?, ?it/s]"
      ]
     },
     "metadata": {},
     "output_type": "display_data"
    },
    {
     "data": {
      "application/vnd.jupyter.widget-view+json": {
       "model_id": "fca0d18d6a4245a29dc610e8b036b0a2",
       "version_major": 2,
       "version_minor": 0
      },
      "text/plain": [
       "  0%|          | 0/1 [00:00<?, ?it/s]"
      ]
     },
     "metadata": {},
     "output_type": "display_data"
    },
    {
     "data": {
      "application/vnd.jupyter.widget-view+json": {
       "model_id": "fff5d18d073041e498f402c7fe66bd49",
       "version_major": 2,
       "version_minor": 0
      },
      "text/plain": [
       "  0%|          | 0/1 [00:00<?, ?it/s]"
      ]
     },
     "metadata": {},
     "output_type": "display_data"
    }
   ],
   "source": [
    "images = list(Path('/kaggle/input/stable-diffusion-image-to-prompts/images').glob('*.png'))\n",
    "\n",
    "embeddings1 = predict(images, CFG.model_path1, CFG.model_name1, CFG.input_size1, CFG.batch_size)\n",
    "embeddings3 = predict(images, CFG.model_path3, CFG.model_name3, CFG.input_size3, CFG.batch_size)"
   ]
  },
  {
   "cell_type": "code",
   "execution_count": null,
   "id": "cf414c01",
   "metadata": {
    "papermill": {
     "duration": 0.011371,
     "end_time": "2023-05-09T04:23:35.797217",
     "exception": false,
     "start_time": "2023-05-09T04:23:35.785846",
     "status": "completed"
    },
    "tags": []
   },
   "outputs": [],
   "source": []
  },
  {
   "cell_type": "markdown",
   "id": "6c9290ab",
   "metadata": {
    "papermill": {
     "duration": 0.011239,
     "end_time": "2023-05-09T04:23:35.819818",
     "exception": false,
     "start_time": "2023-05-09T04:23:35.808579",
     "status": "completed"
    },
    "tags": []
   },
   "source": [
    "#### <a id=\"top\"></a>\n",
    "# <div style=\"box-shadow: rgb(60, 121, 245) 0px 0px 0px 3px inset, rgb(255, 255, 255) 10px -10px 0px -3px, rgb(31, 193, 27) 10px -10px, rgb(255, 255, 255) 20px -20px 0px -3px, rgb(255, 217, 19) 20px -20px, rgb(255, 255, 255) 30px -30px 0px -3px, rgb(255, 156, 85) 30px -30px, rgb(255, 255, 255) 40px -40px 0px -3px, rgb(255, 85, 85) 40px -40px; padding:20px; margin-right: 40px; font-size:30px; font-family: consolas; text-align:center; display:fill; border-radius:15px; color:rgb(60, 121, 245);\"><b> vit-Large_patch16-224 </b></div>"
   ]
  },
  {
   "cell_type": "code",
   "execution_count": 9,
   "id": "716b0628",
   "metadata": {
    "execution": {
     "iopub.execute_input": "2023-05-09T04:23:35.845642Z",
     "iopub.status.busy": "2023-05-09T04:23:35.844449Z",
     "iopub.status.idle": "2023-05-09T04:23:35.857343Z",
     "shell.execute_reply": "2023-05-09T04:23:35.856137Z"
    },
    "papermill": {
     "duration": 0.028767,
     "end_time": "2023-05-09T04:23:35.860092",
     "exception": false,
     "start_time": "2023-05-09T04:23:35.831325",
     "status": "completed"
    },
    "tags": []
   },
   "outputs": [],
   "source": [
    "def predict(\n",
    "    images,\n",
    "    model_path,\n",
    "    model_name,\n",
    "    input_size,\n",
    "    batch_size\n",
    "):\n",
    "    device = torch.device('cuda' if torch.cuda.is_available() else 'cpu')\n",
    "    transform = transforms.Compose([\n",
    "        transforms.Resize(input_size),\n",
    "        transforms.RandomHorizontalFlip(p=0.5),\n",
    "        #transforms.RandomRotation(degrees=10),\n",
    "\n",
    "        #transforms.RandomVerticalFlip(p=0.5),\n",
    "        transforms.ToTensor(),\n",
    "        transforms.Normalize([0.485, 0.456, 0.406], [0.229, 0.224, 0.225]),\n",
    "    ])\n",
    "    dataset = DiffusionTestDataset(images, transform)\n",
    "    dataloader = DataLoader(\n",
    "        dataset=dataset,\n",
    "        shuffle=False,\n",
    "        batch_size=batch_size,\n",
    "        pin_memory=True,\n",
    "        num_workers=2,\n",
    "        drop_last=False\n",
    "    )\n",
    "    model = timm.create_model(model_name, pretrained=False, num_classes=384)\n",
    "    \n",
    "    state_dict = torch.load(model_path)\n",
    "    model.load_state_dict(state_dict)\n",
    "    model.to(device)\n",
    "    model.eval()\n",
    "    \n",
    "    tta_preds = None\n",
    "    for _ in range(2):\n",
    "        preds = []\n",
    "        for X in tqdm(dataloader, leave=False):\n",
    "            X = X.to(device)\n",
    "\n",
    "            with torch.no_grad():\n",
    "                X_out = model(X).cpu().numpy()\n",
    "                # L2 normalize -- Start\n",
    "                X_out = X_out / ( np.abs(X_out).max(axis=-1, keepdims=True) + 0.0000001)  # To avoid to overflow at normalize()\n",
    "                X_out = normalize( X_out )\n",
    "                # L2 normalize -- End\n",
    "                preds.append(X_out)\n",
    "                \n",
    "        if tta_preds is None:\n",
    "            tta_preds = np.vstack(preds).flatten()\n",
    "        else:\n",
    "            tta_preds += np.vstack(preds).flatten()\n",
    "    \n",
    "    return tta_preds / 2"
   ]
  },
  {
   "cell_type": "code",
   "execution_count": 10,
   "id": "658ee017",
   "metadata": {
    "execution": {
     "iopub.execute_input": "2023-05-09T04:23:35.884981Z",
     "iopub.status.busy": "2023-05-09T04:23:35.884613Z",
     "iopub.status.idle": "2023-05-09T04:23:56.537316Z",
     "shell.execute_reply": "2023-05-09T04:23:56.536040Z"
    },
    "papermill": {
     "duration": 20.668616,
     "end_time": "2023-05-09T04:23:56.540311",
     "exception": false,
     "start_time": "2023-05-09T04:23:35.871695",
     "status": "completed"
    },
    "tags": []
   },
   "outputs": [
    {
     "data": {
      "application/vnd.jupyter.widget-view+json": {
       "model_id": "5916ee689c4c415db16b8f988ab7f421",
       "version_major": 2,
       "version_minor": 0
      },
      "text/plain": [
       "  0%|          | 0/1 [00:00<?, ?it/s]"
      ]
     },
     "metadata": {},
     "output_type": "display_data"
    },
    {
     "data": {
      "application/vnd.jupyter.widget-view+json": {
       "model_id": "25b4b56c2cf94411922af6550ed4b0ac",
       "version_major": 2,
       "version_minor": 0
      },
      "text/plain": [
       "  0%|          | 0/1 [00:00<?, ?it/s]"
      ]
     },
     "metadata": {},
     "output_type": "display_data"
    }
   ],
   "source": [
    "images = list(Path('/kaggle/input/stable-diffusion-image-to-prompts/images').glob('*.png'))\n",
    "\n",
    "embeddings2 = predict(images, CFG.model_path2, CFG.model_name2, CFG.input_size2, CFG.batch_size)"
   ]
  },
  {
   "cell_type": "markdown",
   "id": "12fa8fa6",
   "metadata": {
    "papermill": {
     "duration": 0.011237,
     "end_time": "2023-05-09T04:23:56.564593",
     "exception": false,
     "start_time": "2023-05-09T04:23:56.553356",
     "status": "completed"
    },
    "tags": []
   },
   "source": [
    "#### <a id=\"top\"></a>\n",
    "# <div style=\"box-shadow: rgb(60, 121, 245) 0px 0px 0px 3px inset, rgb(255, 255, 255) 10px -10px 0px -3px, rgb(31, 193, 27) 10px -10px, rgb(255, 255, 255) 20px -20px 0px -3px, rgb(255, 217, 19) 20px -20px, rgb(255, 255, 255) 30px -30px 0px -3px, rgb(255, 156, 85) 30px -30px, rgb(255, 255, 255) 40px -40px 0px -3px, rgb(255, 85, 85) 40px -40px; padding:20px; margin-right: 40px; font-size:30px; font-family: consolas; text-align:center; display:fill; border-radius:15px; color:rgb(60, 121, 245);\"><b> SDIP CLIP KNN-Regression </b></div>"
   ]
  },
  {
   "cell_type": "markdown",
   "id": "5da74701",
   "metadata": {
    "papermill": {
     "duration": 0.011401,
     "end_time": "2023-05-09T04:23:56.587449",
     "exception": false,
     "start_time": "2023-05-09T04:23:56.576048",
     "status": "completed"
    },
    "tags": []
   },
   "source": [
    "# Overview"
   ]
  },
  {
   "cell_type": "markdown",
   "id": "ecb40aff",
   "metadata": {
    "papermill": {
     "duration": 0.011602,
     "end_time": "2023-05-09T04:23:56.610491",
     "exception": false,
     "start_time": "2023-05-09T04:23:56.598889",
     "status": "completed"
    },
    "tags": []
   },
   "source": [
    "This method uses k-NN regression with distances of CLIP embeddings.  \n",
    "***Note: This method does not use generated images, only prompts.***\n",
    "![](https://www.googleapis.com/download/storage/v1/b/kaggle-forum-message-attachments/o/inbox%2F8163878%2Fbf35d4beb7867bc163f28abb647128ae%2FSDIP_method.PNG?generation=1682513923845611&alt=media)"
   ]
  },
  {
   "cell_type": "markdown",
   "id": "c920798a",
   "metadata": {
    "papermill": {
     "duration": 0.011425,
     "end_time": "2023-05-09T04:23:56.633439",
     "exception": false,
     "start_time": "2023-05-09T04:23:56.622014",
     "status": "completed"
    },
    "tags": []
   },
   "source": [
    "# Library"
   ]
  },
  {
   "cell_type": "code",
   "execution_count": 11,
   "id": "c847fbe6",
   "metadata": {
    "execution": {
     "iopub.execute_input": "2023-05-09T04:23:56.658296Z",
     "iopub.status.busy": "2023-05-09T04:23:56.657886Z",
     "iopub.status.idle": "2023-05-09T04:24:18.823180Z",
     "shell.execute_reply": "2023-05-09T04:24:18.821855Z"
    },
    "papermill": {
     "duration": 22.181164,
     "end_time": "2023-05-09T04:24:18.826115",
     "exception": false,
     "start_time": "2023-05-09T04:23:56.644951",
     "status": "completed"
    },
    "tags": []
   },
   "outputs": [
    {
     "name": "stdout",
     "output_type": "stream",
     "text": [
      "\u001b[33mWARNING: Running pip as the 'root' user can result in broken permissions and conflicting behaviour with the system package manager. It is recommended to use a virtual environment instead: https://pip.pypa.io/warnings/venv\u001b[0m\u001b[33m\r\n",
      "\u001b[0m"
     ]
    }
   ],
   "source": [
    "wheels_path = \"/kaggle/input/clip-interrogator-wheels-x\"\n",
    "clip_interrogator_whl_path = f\"{wheels_path}/clip_interrogator-0.4.3-py3-none-any.whl\"\n",
    "!pip install --no-index --find-links $wheels_path $clip_interrogator_whl_path -q"
   ]
  },
  {
   "cell_type": "code",
   "execution_count": 12,
   "id": "8f73b601",
   "metadata": {
    "execution": {
     "iopub.execute_input": "2023-05-09T04:24:18.852533Z",
     "iopub.status.busy": "2023-05-09T04:24:18.851447Z",
     "iopub.status.idle": "2023-05-09T04:24:19.285006Z",
     "shell.execute_reply": "2023-05-09T04:24:19.283605Z"
    },
    "papermill": {
     "duration": 0.449858,
     "end_time": "2023-05-09T04:24:19.288006",
     "exception": false,
     "start_time": "2023-05-09T04:24:18.838148",
     "status": "completed"
    },
    "tags": []
   },
   "outputs": [],
   "source": [
    "import os, glob, gc\n",
    "import random\n",
    "import numpy as np\n",
    "import pandas as pd\n",
    "import pickle\n",
    "from pathlib import Path\n",
    "from PIL import Image\n",
    "from tqdm.notebook import tqdm\n",
    "from sklearn.preprocessing import normalize\n",
    "import torch\n",
    "from torch import nn\n",
    "from torchvision import transforms\n",
    "import open_clip\n",
    "import warnings\n",
    "warnings.filterwarnings('ignore')\n",
    "from matplotlib import pyplot as plt"
   ]
  },
  {
   "cell_type": "markdown",
   "id": "fd11e06f",
   "metadata": {
    "papermill": {
     "duration": 0.011118,
     "end_time": "2023-05-09T04:24:19.310734",
     "exception": false,
     "start_time": "2023-05-09T04:24:19.299616",
     "status": "completed"
    },
    "tags": []
   },
   "source": [
    "# Config"
   ]
  },
  {
   "cell_type": "code",
   "execution_count": 13,
   "id": "0fc01c77",
   "metadata": {
    "execution": {
     "iopub.execute_input": "2023-05-09T04:24:19.336652Z",
     "iopub.status.busy": "2023-05-09T04:24:19.335150Z",
     "iopub.status.idle": "2023-05-09T04:24:19.342024Z",
     "shell.execute_reply": "2023-05-09T04:24:19.340965Z"
    },
    "papermill": {
     "duration": 0.021985,
     "end_time": "2023-05-09T04:24:19.344279",
     "exception": false,
     "start_time": "2023-05-09T04:24:19.322294",
     "status": "completed"
    },
    "tags": []
   },
   "outputs": [],
   "source": [
    "class CFG:\n",
    "    clip_model_path = \"/kaggle/input/laion-vit-h-14-model/ViT-H-14_laion2b_s32b_b79k.pt\"\n",
    "    clip_preproc_pkl = \"/kaggle/input/laion-vit-h-14-model/preprocess.pkl\"\n",
    "    input_size = 224\n",
    "    batch_size = 64\n",
    "    seed = 42\n",
    "    knn_topk = 100\n",
    "    knn_interval = 1000\n",
    "    knn_dim = 6"
   ]
  },
  {
   "cell_type": "code",
   "execution_count": 14,
   "id": "a9b32740",
   "metadata": {
    "execution": {
     "iopub.execute_input": "2023-05-09T04:24:19.370038Z",
     "iopub.status.busy": "2023-05-09T04:24:19.369145Z",
     "iopub.status.idle": "2023-05-09T04:24:19.375643Z",
     "shell.execute_reply": "2023-05-09T04:24:19.374532Z"
    },
    "papermill": {
     "duration": 0.021728,
     "end_time": "2023-05-09T04:24:19.377793",
     "exception": false,
     "start_time": "2023-05-09T04:24:19.356065",
     "status": "completed"
    },
    "tags": []
   },
   "outputs": [],
   "source": [
    "def seed_everything(seed):\n",
    "    os.environ['PYTHONHASHSEED'] = str(seed)\n",
    "    random.seed(seed)\n",
    "    np.random.seed(seed)\n",
    "    torch.manual_seed(seed)\n",
    "    \n",
    "    if torch.cuda.is_available(): \n",
    "        torch.cuda.manual_seed(seed)\n",
    "        torch.backends.cudnn.deterministic = True\n",
    "\n",
    "seed_everything(CFG.seed)"
   ]
  },
  {
   "cell_type": "code",
   "execution_count": 15,
   "id": "c9dd929f",
   "metadata": {
    "execution": {
     "iopub.execute_input": "2023-05-09T04:24:19.402059Z",
     "iopub.status.busy": "2023-05-09T04:24:19.401713Z",
     "iopub.status.idle": "2023-05-09T04:24:19.406987Z",
     "shell.execute_reply": "2023-05-09T04:24:19.405813Z"
    },
    "papermill": {
     "duration": 0.020204,
     "end_time": "2023-05-09T04:24:19.409332",
     "exception": false,
     "start_time": "2023-05-09T04:24:19.389128",
     "status": "completed"
    },
    "tags": []
   },
   "outputs": [],
   "source": [
    "device = torch.device('cuda' if torch.cuda.is_available() else 'cpu')"
   ]
  },
  {
   "cell_type": "markdown",
   "id": "5d5667e2",
   "metadata": {
    "papermill": {
     "duration": 0.01139,
     "end_time": "2023-05-09T04:24:19.432187",
     "exception": false,
     "start_time": "2023-05-09T04:24:19.420797",
     "status": "completed"
    },
    "tags": []
   },
   "source": [
    "## ref_embeddings"
   ]
  },
  {
   "cell_type": "code",
   "execution_count": 16,
   "id": "361c009b",
   "metadata": {
    "execution": {
     "iopub.execute_input": "2023-05-09T04:24:19.457173Z",
     "iopub.status.busy": "2023-05-09T04:24:19.456157Z",
     "iopub.status.idle": "2023-05-09T04:24:19.461442Z",
     "shell.execute_reply": "2023-05-09T04:24:19.460283Z"
    },
    "papermill": {
     "duration": 0.020066,
     "end_time": "2023-05-09T04:24:19.463728",
     "exception": false,
     "start_time": "2023-05-09T04:24:19.443662",
     "status": "completed"
    },
    "tags": []
   },
   "outputs": [],
   "source": [
    "FILES_OBJECTIVE_EMB = []\n",
    "FILES_CLIP_EMB = []"
   ]
  },
  {
   "cell_type": "code",
   "execution_count": 17,
   "id": "4c3db21c",
   "metadata": {
    "execution": {
     "iopub.execute_input": "2023-05-09T04:24:19.489421Z",
     "iopub.status.busy": "2023-05-09T04:24:19.487700Z",
     "iopub.status.idle": "2023-05-09T04:24:19.574681Z",
     "shell.execute_reply": "2023-05-09T04:24:19.573364Z"
    },
    "papermill": {
     "duration": 0.102055,
     "end_time": "2023-05-09T04:24:19.577099",
     "exception": false,
     "start_time": "2023-05-09T04:24:19.475044",
     "status": "completed"
    },
    "tags": []
   },
   "outputs": [
    {
     "name": "stdout",
     "output_type": "stream",
     "text": [
      "140 140\n"
     ]
    }
   ],
   "source": [
    "### DiffusionDB-14M (https://huggingface.co/datasets/poloclub/diffusiondb)\n",
    "# Objective embeddings\n",
    "FILES_OBJECTIVE_EMB += sorted(glob.glob(\"/kaggle/input/pub-embeddings-diffusiondb-14m-part1/all_minilm_l6_v2/*.npy\"))\n",
    "FILES_OBJECTIVE_EMB += sorted(glob.glob(\"/kaggle/input/pub-embeddings-diffusiondb-14m-part2/all_minilm_l6_v2/*.npy\"))\n",
    "FILES_OBJECTIVE_EMB += sorted(glob.glob(\"/kaggle/input/pub-embeddings-diffusiondb-14m-part3/all_minilm_l6_v2/*.npy\"))\n",
    "\n",
    "# CLIP text tembeddings\n",
    "FILES_CLIP_EMB += sorted(glob.glob(\"/kaggle/input/pub-embeddings-diffusiondb-14m-part1/vith14/*.npy\"))\n",
    "FILES_CLIP_EMB += sorted(glob.glob(\"/kaggle/input/pub-embeddings-diffusiondb-14m-part2/vith14/*.npy\"))\n",
    "FILES_CLIP_EMB += sorted(glob.glob(\"/kaggle/input/pub-embeddings-diffusiondb-14m-part3/vith14/*.npy\"))\n",
    "print(len(FILES_OBJECTIVE_EMB), len(FILES_CLIP_EMB))"
   ]
  },
  {
   "cell_type": "code",
   "execution_count": 18,
   "id": "0098a869",
   "metadata": {
    "execution": {
     "iopub.execute_input": "2023-05-09T04:24:19.602238Z",
     "iopub.status.busy": "2023-05-09T04:24:19.601846Z",
     "iopub.status.idle": "2023-05-09T04:24:19.618286Z",
     "shell.execute_reply": "2023-05-09T04:24:19.617079Z"
    },
    "papermill": {
     "duration": 0.031685,
     "end_time": "2023-05-09T04:24:19.620659",
     "exception": false,
     "start_time": "2023-05-09T04:24:19.588974",
     "status": "completed"
    },
    "tags": []
   },
   "outputs": [
    {
     "name": "stdout",
     "output_type": "stream",
     "text": [
      "146 146\n"
     ]
    }
   ],
   "source": [
    "# MSCOCO 2017(train data) (https://cocodataset.org/#download)\n",
    "# Objective embeddings\n",
    "FILES_OBJECTIVE_EMB += sorted(glob.glob(\"/kaggle/input/pub-embeddings-mscoco/all_minilm_l6_v2/*.npy\"))\n",
    "\n",
    "# CLIP text tembeddings\n",
    "FILES_CLIP_EMB += sorted(glob.glob(\"/kaggle/input/pub-embeddings-mscoco/vith14/*.npy\"))\n",
    "print(len(FILES_OBJECTIVE_EMB), len(FILES_CLIP_EMB))"
   ]
  },
  {
   "cell_type": "code",
   "execution_count": 19,
   "id": "74c8f335",
   "metadata": {
    "execution": {
     "iopub.execute_input": "2023-05-09T04:24:19.646304Z",
     "iopub.status.busy": "2023-05-09T04:24:19.644362Z",
     "iopub.status.idle": "2023-05-09T04:24:19.651817Z",
     "shell.execute_reply": "2023-05-09T04:24:19.650349Z"
    },
    "papermill": {
     "duration": 0.02213,
     "end_time": "2023-05-09T04:24:19.654057",
     "exception": false,
     "start_time": "2023-05-09T04:24:19.631927",
     "status": "completed"
    },
    "tags": []
   },
   "outputs": [
    {
     "name": "stdout",
     "output_type": "stream",
     "text": [
      "147 147\n"
     ]
    }
   ],
   "source": [
    "# dataset80k (https://www.kaggle.com/competitions/stable-diffusion-image-to-prompts/discussion/390674)\n",
    "# Objective embeddings\n",
    "FILES_OBJECTIVE_EMB.append(\"/kaggle/input/pub-embeddings-dataset80k/all_minilm_l6_v2/prompt_embeddings_allminilm_001.npy\")\n",
    "\n",
    "# CLIP text tembeddings\n",
    "FILES_CLIP_EMB.append(\"/kaggle/input/pub-embeddings-dataset80k/vith14/prompt_embedding_vith14_001.npy\")\n",
    "print(len(FILES_OBJECTIVE_EMB), len(FILES_CLIP_EMB))"
   ]
  },
  {
   "cell_type": "code",
   "execution_count": 20,
   "id": "5615c474",
   "metadata": {
    "execution": {
     "iopub.execute_input": "2023-05-09T04:24:19.678703Z",
     "iopub.status.busy": "2023-05-09T04:24:19.677753Z",
     "iopub.status.idle": "2023-05-09T04:24:19.684464Z",
     "shell.execute_reply": "2023-05-09T04:24:19.683271Z"
    },
    "papermill": {
     "duration": 0.021448,
     "end_time": "2023-05-09T04:24:19.686724",
     "exception": false,
     "start_time": "2023-05-09T04:24:19.665276",
     "status": "completed"
    },
    "tags": []
   },
   "outputs": [
    {
     "name": "stdout",
     "output_type": "stream",
     "text": [
      "148 148\n"
     ]
    }
   ],
   "source": [
    "# Dataset30k (https://www.kaggle.com/competitions/stable-diffusion-image-to-prompts/discussion/391500)\n",
    "# Objective embeddings\n",
    "FILES_OBJECTIVE_EMB.append(\"/kaggle/input/pub-embeddings-dataset30k/all_minilm_l6_v2/prompt_embeddings_allminilm_001.npy\")\n",
    "\n",
    "# CLIP text tembeddings\n",
    "FILES_CLIP_EMB.append(\"/kaggle/input/pub-embeddings-dataset30k/vith14/prompt_embedding_vith14_001.npy\")\n",
    "print(len(FILES_OBJECTIVE_EMB), len(FILES_CLIP_EMB))"
   ]
  },
  {
   "cell_type": "code",
   "execution_count": 21,
   "id": "2ff79537",
   "metadata": {
    "execution": {
     "iopub.execute_input": "2023-05-09T04:24:19.711208Z",
     "iopub.status.busy": "2023-05-09T04:24:19.710231Z",
     "iopub.status.idle": "2023-05-09T04:24:19.726438Z",
     "shell.execute_reply": "2023-05-09T04:24:19.724881Z"
    },
    "papermill": {
     "duration": 0.030869,
     "end_time": "2023-05-09T04:24:19.728659",
     "exception": false,
     "start_time": "2023-05-09T04:24:19.697790",
     "status": "completed"
    },
    "tags": []
   },
   "outputs": [
    {
     "name": "stdout",
     "output_type": "stream",
     "text": [
      "158 158\n"
     ]
    }
   ],
   "source": [
    "# Dataset900k (https://www.kaggle.com/competitions/stable-diffusion-image-to-prompts/discussion/399699)\n",
    "# Objective embeddings\n",
    "FILES_OBJECTIVE_EMB += sorted(glob.glob(\"/kaggle/input/pub-embeddings-dataset900k/all_minilm_l6_v2/*.npy\"))\n",
    "\n",
    "# CLIP text tembeddings\n",
    "FILES_CLIP_EMB += sorted(glob.glob(\"/kaggle/input/pub-embeddings-dataset900k/vith14/*.npy\"))\n",
    "print(len(FILES_OBJECTIVE_EMB), len(FILES_CLIP_EMB))"
   ]
  },
  {
   "cell_type": "code",
   "execution_count": 22,
   "id": "d41ecb90",
   "metadata": {
    "execution": {
     "iopub.execute_input": "2023-05-09T04:24:19.753220Z",
     "iopub.status.busy": "2023-05-09T04:24:19.752853Z",
     "iopub.status.idle": "2023-05-09T04:24:19.771905Z",
     "shell.execute_reply": "2023-05-09T04:24:19.770186Z"
    },
    "papermill": {
     "duration": 0.033939,
     "end_time": "2023-05-09T04:24:19.774215",
     "exception": false,
     "start_time": "2023-05-09T04:24:19.740276",
     "status": "completed"
    },
    "tags": []
   },
   "outputs": [
    {
     "name": "stdout",
     "output_type": "stream",
     "text": [
      "192 192\n"
     ]
    }
   ],
   "source": [
    "# Conceptual Captions\n",
    "# Objective embeddings\n",
    "FILES_OBJECTIVE_EMB += sorted(glob.glob(\"/kaggle/input/pub-embeddings-conceptual-captions/all_minilm_l6_v2/*.npy\"))\n",
    "\n",
    "# CLIP text tembeddings\n",
    "FILES_CLIP_EMB += sorted(glob.glob(\"/kaggle/input/pub-embeddings-conceptual-captions/vith14/*.npy\"))\n",
    "print(len(FILES_OBJECTIVE_EMB), len(FILES_CLIP_EMB))"
   ]
  },
  {
   "cell_type": "code",
   "execution_count": 23,
   "id": "6259057a",
   "metadata": {
    "execution": {
     "iopub.execute_input": "2023-05-09T04:24:19.798825Z",
     "iopub.status.busy": "2023-05-09T04:24:19.797919Z",
     "iopub.status.idle": "2023-05-09T04:24:19.810913Z",
     "shell.execute_reply": "2023-05-09T04:24:19.809528Z"
    },
    "papermill": {
     "duration": 0.027326,
     "end_time": "2023-05-09T04:24:19.813042",
     "exception": false,
     "start_time": "2023-05-09T04:24:19.785716",
     "status": "completed"
    },
    "tags": []
   },
   "outputs": [
    {
     "name": "stdout",
     "output_type": "stream",
     "text": [
      "193 193\n"
     ]
    }
   ],
   "source": [
    "# SD2GPT2 (https://www.kaggle.com/datasets/xiaozhouwang/sd2gpt2)\n",
    "# Objective embeddings\n",
    "FILES_OBJECTIVE_EMB += sorted(glob.glob(\"/kaggle/input/pub-embeddings-sd2gpt2/all_minilm_l6_v2/*.npy\"))\n",
    "\n",
    "# CLIP text tembeddings\n",
    "FILES_CLIP_EMB += sorted(glob.glob(\"/kaggle/input/pub-embeddings-sd2gpt2/vith14/*.npy\"))\n",
    "print(len(FILES_OBJECTIVE_EMB), len(FILES_CLIP_EMB))"
   ]
  },
  {
   "cell_type": "code",
   "execution_count": 24,
   "id": "8f6089cd",
   "metadata": {
    "execution": {
     "iopub.execute_input": "2023-05-09T04:24:19.837825Z",
     "iopub.status.busy": "2023-05-09T04:24:19.837063Z",
     "iopub.status.idle": "2023-05-09T04:24:19.851096Z",
     "shell.execute_reply": "2023-05-09T04:24:19.849595Z"
    },
    "papermill": {
     "duration": 0.029002,
     "end_time": "2023-05-09T04:24:19.853441",
     "exception": false,
     "start_time": "2023-05-09T04:24:19.824439",
     "status": "completed"
    },
    "tags": []
   },
   "outputs": [
    {
     "name": "stdout",
     "output_type": "stream",
     "text": [
      "194 194\n"
     ]
    }
   ],
   "source": [
    "# SD2Hardcode (https://www.kaggle.com/datasets/xiaozhouwang/sd2hardcode)\n",
    "# Objective embeddings\n",
    "FILES_OBJECTIVE_EMB += sorted(glob.glob(\"/kaggle/input/pub-embeddings-sd2hardcode/all_minilm_l6_v2/*.npy\"))\n",
    "\n",
    "# CLIP text tembeddings\n",
    "FILES_CLIP_EMB += sorted(glob.glob(\"/kaggle/input/pub-embeddings-sd2hardcode/vith14/*.npy\"))\n",
    "print(len(FILES_OBJECTIVE_EMB), len(FILES_CLIP_EMB))"
   ]
  },
  {
   "cell_type": "code",
   "execution_count": 25,
   "id": "e06a06aa",
   "metadata": {
    "execution": {
     "iopub.execute_input": "2023-05-09T04:24:19.878894Z",
     "iopub.status.busy": "2023-05-09T04:24:19.878507Z",
     "iopub.status.idle": "2023-05-09T04:24:19.892048Z",
     "shell.execute_reply": "2023-05-09T04:24:19.890455Z"
    },
    "papermill": {
     "duration": 0.029392,
     "end_time": "2023-05-09T04:24:19.894483",
     "exception": false,
     "start_time": "2023-05-09T04:24:19.865091",
     "status": "completed"
    },
    "tags": []
   },
   "outputs": [
    {
     "name": "stdout",
     "output_type": "stream",
     "text": [
      "195 195\n"
     ]
    }
   ],
   "source": [
    "# ChatGPT (https://www.kaggle.com/competitions/stable-diffusion-image-to-prompts/discussion/402146)\n",
    "# Objective embeddings\n",
    "FILES_OBJECTIVE_EMB += sorted(glob.glob(\"/kaggle/input/pub-embeddings-chatgpt/all_minilm_l6_v2/*.npy\"))\n",
    "\n",
    "# CLIP text tembeddings\n",
    "FILES_CLIP_EMB += sorted(glob.glob(\"/kaggle/input/pub-embeddings-chatgpt/vith14/*.npy\"))\n",
    "print(len(FILES_OBJECTIVE_EMB), len(FILES_CLIP_EMB))\n"
   ]
  },
  {
   "cell_type": "code",
   "execution_count": 26,
   "id": "873d86ee",
   "metadata": {
    "execution": {
     "iopub.execute_input": "2023-05-09T04:24:19.921313Z",
     "iopub.status.busy": "2023-05-09T04:24:19.920900Z",
     "iopub.status.idle": "2023-05-09T04:24:20.145495Z",
     "shell.execute_reply": "2023-05-09T04:24:20.144267Z"
    },
    "papermill": {
     "duration": 0.240909,
     "end_time": "2023-05-09T04:24:20.147987",
     "exception": false,
     "start_time": "2023-05-09T04:24:19.907078",
     "status": "completed"
    },
    "tags": []
   },
   "outputs": [
    {
     "name": "stdout",
     "output_type": "stream",
     "text": [
      "665 665\n"
     ]
    }
   ],
   "source": [
    "# Laion2B-en (https://huggingface.co/datasets/laion/laion2B-en)\n",
    "# (part0000-part0050 of 2000)\n",
    "\n",
    "# Objective embeddings\n",
    "FILES_OBJECTIVE_EMB += sorted(glob.glob(f\"/kaggle/input/pub-embeddings-laion2b-part0000-0004/all_minilm_l6_v2/*.npy\"))\n",
    "FILES_OBJECTIVE_EMB += sorted(glob.glob(f\"/kaggle/input/pub-embeddings-laion2b-part0005-0009/all_minilm_l6_v2/*.npy\"))\n",
    "FILES_OBJECTIVE_EMB += sorted(glob.glob(f\"/kaggle/input/pub-embeddings-laion2b-part0010-0014/all_minilm_l6_v2/*.npy\"))\n",
    "FILES_OBJECTIVE_EMB += sorted(glob.glob(f\"/kaggle/input/pub-embeddings-laion2b-part0015-0019/all_minilm_l6_v2/*.npy\"))\n",
    "FILES_OBJECTIVE_EMB += sorted(glob.glob(f\"/kaggle/input/pub-embeddings-laion2b-part0020-0024/all_minilm_l6_v2/*.npy\"))\n",
    "FILES_OBJECTIVE_EMB += sorted(glob.glob(f\"/kaggle/input/pub-embeddings-laion2b-part0025-0029/all_minilm_l6_v2/*.npy\"))\n",
    "FILES_OBJECTIVE_EMB += sorted(glob.glob(f\"/kaggle/input/pub-embeddings-laion2b-part0030-0034/all_minilm_l6_v2/*.npy\"))\n",
    "FILES_OBJECTIVE_EMB += sorted(glob.glob(f\"/kaggle/input/pub-embeddings-laion2b-part0035-0039/all_minilm_l6_v2/*.npy\"))\n",
    "FILES_OBJECTIVE_EMB += sorted(glob.glob(f\"/kaggle/input/pub-embeddings-laion2b-part0040-0044/all_minilm_l6_v2/*.npy\"))\n",
    "FILES_OBJECTIVE_EMB += sorted(glob.glob(f\"/kaggle/input/pub-embeddings-laion2b-part0045-0049/all_minilm_l6_v2/*.npy\"))\n",
    "\n",
    "# CLIP text tembeddings\n",
    "FILES_CLIP_EMB += sorted(glob.glob(f\"/kaggle/input/pub-embeddings-laion2b-part0000-0004/vith14/*.npy\"))\n",
    "FILES_CLIP_EMB += sorted(glob.glob(f\"/kaggle/input/pub-embeddings-laion2b-part0005-0009/vith14/*.npy\"))\n",
    "FILES_CLIP_EMB += sorted(glob.glob(f\"/kaggle/input/pub-embeddings-laion2b-part0010-0014/vith14/*.npy\"))\n",
    "FILES_CLIP_EMB += sorted(glob.glob(f\"/kaggle/input/pub-embeddings-laion2b-part0015-0019/vith14/*.npy\"))\n",
    "FILES_CLIP_EMB += sorted(glob.glob(f\"/kaggle/input/pub-embeddings-laion2b-part0020-0024/vith14/*.npy\"))\n",
    "FILES_CLIP_EMB += sorted(glob.glob(f\"/kaggle/input/pub-embeddings-laion2b-part0025-0029/vith14/*.npy\"))\n",
    "FILES_CLIP_EMB += sorted(glob.glob(f\"/kaggle/input/pub-embeddings-laion2b-part0030-0034/vith14/*.npy\"))\n",
    "FILES_CLIP_EMB += sorted(glob.glob(f\"/kaggle/input/pub-embeddings-laion2b-part0035-0039/vith14/*.npy\"))\n",
    "FILES_CLIP_EMB += sorted(glob.glob(f\"/kaggle/input/pub-embeddings-laion2b-part0040-0044/vith14/*.npy\"))\n",
    "FILES_CLIP_EMB += sorted(glob.glob(f\"/kaggle/input/pub-embeddings-laion2b-part0045-0049/vith14/*.npy\"))\n",
    "print(len(FILES_OBJECTIVE_EMB), len(FILES_CLIP_EMB))"
   ]
  },
  {
   "cell_type": "markdown",
   "id": "6bbc01e9",
   "metadata": {
    "papermill": {
     "duration": 0.012151,
     "end_time": "2023-05-09T04:24:20.172180",
     "exception": false,
     "start_time": "2023-05-09T04:24:20.160029",
     "status": "completed"
    },
    "tags": []
   },
   "source": [
    "## Generate CLIP vision embeddings"
   ]
  },
  {
   "cell_type": "code",
   "execution_count": 27,
   "id": "ce9f1293",
   "metadata": {
    "execution": {
     "iopub.execute_input": "2023-05-09T04:24:20.201951Z",
     "iopub.status.busy": "2023-05-09T04:24:20.200780Z",
     "iopub.status.idle": "2023-05-09T04:24:20.208143Z",
     "shell.execute_reply": "2023-05-09T04:24:20.206863Z"
    },
    "papermill": {
     "duration": 0.025383,
     "end_time": "2023-05-09T04:24:20.211173",
     "exception": false,
     "start_time": "2023-05-09T04:24:20.185790",
     "status": "completed"
    },
    "tags": []
   },
   "outputs": [
    {
     "name": "stdout",
     "output_type": "stream",
     "text": [
      "7\n"
     ]
    }
   ],
   "source": [
    "test_images = list(Path('/kaggle/input/stable-diffusion-image-to-prompts/images').glob('*.png'))\n",
    "print(len(test_images))"
   ]
  },
  {
   "cell_type": "code",
   "execution_count": 28,
   "id": "e3aa984c",
   "metadata": {
    "execution": {
     "iopub.execute_input": "2023-05-09T04:24:20.238214Z",
     "iopub.status.busy": "2023-05-09T04:24:20.237180Z",
     "iopub.status.idle": "2023-05-09T04:24:43.482967Z",
     "shell.execute_reply": "2023-05-09T04:24:43.481768Z"
    },
    "papermill": {
     "duration": 23.262011,
     "end_time": "2023-05-09T04:24:43.485825",
     "exception": false,
     "start_time": "2023-05-09T04:24:20.223814",
     "status": "completed"
    },
    "tags": []
   },
   "outputs": [],
   "source": [
    "# load CLIP vision model (Laion/ViTH14)\n",
    "clip_model = torch.jit.load(CFG.clip_model_path).cuda()\n",
    "clip_model = clip_model.cuda().eval().half();"
   ]
  },
  {
   "cell_type": "code",
   "execution_count": 29,
   "id": "4a4d72ff",
   "metadata": {
    "execution": {
     "iopub.execute_input": "2023-05-09T04:24:43.513694Z",
     "iopub.status.busy": "2023-05-09T04:24:43.513323Z",
     "iopub.status.idle": "2023-05-09T04:24:43.530949Z",
     "shell.execute_reply": "2023-05-09T04:24:43.529886Z"
    },
    "papermill": {
     "duration": 0.034299,
     "end_time": "2023-05-09T04:24:43.533401",
     "exception": false,
     "start_time": "2023-05-09T04:24:43.499102",
     "status": "completed"
    },
    "tags": []
   },
   "outputs": [
    {
     "data": {
      "text/plain": [
       "Compose(\n",
       "    Resize(size=224, interpolation=bicubic, max_size=None, antialias=None)\n",
       "    CenterCrop(size=(224, 224))\n",
       "    <function _convert_to_rgb at 0x7db33dbd04d0>\n",
       "    ToTensor()\n",
       "    Normalize(mean=(0.48145466, 0.4578275, 0.40821073), std=(0.26862954, 0.26130258, 0.27577711))\n",
       ")"
      ]
     },
     "execution_count": 29,
     "metadata": {},
     "output_type": "execute_result"
    }
   ],
   "source": [
    "# load transforms from pickele\n",
    "with open(CFG.clip_preproc_pkl, \"rb\") as fp:\n",
    "    saved_preprocess = pickle.load(fp)\n",
    "saved_preprocess"
   ]
  },
  {
   "cell_type": "code",
   "execution_count": 30,
   "id": "4b1d49b1",
   "metadata": {
    "execution": {
     "iopub.execute_input": "2023-05-09T04:24:43.570608Z",
     "iopub.status.busy": "2023-05-09T04:24:43.570225Z",
     "iopub.status.idle": "2023-05-09T04:24:51.369658Z",
     "shell.execute_reply": "2023-05-09T04:24:51.368269Z"
    },
    "papermill": {
     "duration": 7.825567,
     "end_time": "2023-05-09T04:24:51.372065",
     "exception": false,
     "start_time": "2023-05-09T04:24:43.546498",
     "status": "completed"
    },
    "tags": []
   },
   "outputs": [
    {
     "data": {
      "application/vnd.jupyter.widget-view+json": {
       "model_id": "3f9886b16c5c47a28fceeeef93ea2f8b",
       "version_major": 2,
       "version_minor": 0
      },
      "text/plain": [
       "  0%|          | 0/7 [00:00<?, ?it/s]"
      ]
     },
     "metadata": {},
     "output_type": "display_data"
    },
    {
     "name": "stdout",
     "output_type": "stream",
     "text": [
      "(7, 1024)\n"
     ]
    }
   ],
   "source": [
    "# Inference with CLIP vision encoder\n",
    "test_vision_embeddings = []\n",
    "for test_image in tqdm(test_images):\n",
    "    image = Image.open( test_image )\n",
    "    prep = saved_preprocess(image).unsqueeze(0).to(device)\n",
    "    embedding = clip_model(prep.half())\n",
    "    test_vision_embeddings.append( embedding.detach().cpu().numpy() )\n",
    "test_vision_embeddings = np.concatenate(test_vision_embeddings).astype(np.float16)\n",
    "print(test_vision_embeddings.shape)"
   ]
  },
  {
   "cell_type": "code",
   "execution_count": 31,
   "id": "ae7866fd",
   "metadata": {
    "execution": {
     "iopub.execute_input": "2023-05-09T04:24:51.398124Z",
     "iopub.status.busy": "2023-05-09T04:24:51.397794Z",
     "iopub.status.idle": "2023-05-09T04:24:51.919543Z",
     "shell.execute_reply": "2023-05-09T04:24:51.918255Z"
    },
    "papermill": {
     "duration": 0.537859,
     "end_time": "2023-05-09T04:24:51.922357",
     "exception": false,
     "start_time": "2023-05-09T04:24:51.384498",
     "status": "completed"
    },
    "tags": []
   },
   "outputs": [
    {
     "data": {
      "text/plain": [
       "5519"
      ]
     },
     "execution_count": 31,
     "metadata": {},
     "output_type": "execute_result"
    }
   ],
   "source": [
    "del clip_model, prep, image, embedding\n",
    "gc.collect()"
   ]
  },
  {
   "cell_type": "code",
   "execution_count": 32,
   "id": "b77211ec",
   "metadata": {
    "execution": {
     "iopub.execute_input": "2023-05-09T04:24:51.950363Z",
     "iopub.status.busy": "2023-05-09T04:24:51.949949Z",
     "iopub.status.idle": "2023-05-09T04:24:51.958031Z",
     "shell.execute_reply": "2023-05-09T04:24:51.956363Z"
    },
    "papermill": {
     "duration": 0.025269,
     "end_time": "2023-05-09T04:24:51.960651",
     "exception": false,
     "start_time": "2023-05-09T04:24:51.935382",
     "status": "completed"
    },
    "tags": []
   },
   "outputs": [
    {
     "name": "stdout",
     "output_type": "stream",
     "text": [
      "!!! Debug mode !!!\n",
      "len(FILES_OBJECTIVE_EMB)=5\n",
      "len(FILES_CLIP_EMB)=5\n"
     ]
    }
   ],
   "source": [
    "# Reduce the number of files as debugging.\n",
    "if test_vision_embeddings.shape[0] == 7:   # 7 public test images\n",
    "    FILES_OBJECTIVE_EMB = FILES_OBJECTIVE_EMB[:5]\n",
    "    FILES_CLIP_EMB = FILES_CLIP_EMB[:5]\n",
    "    print(f\"!!! Debug mode !!!\")\n",
    "    print(f\"len(FILES_OBJECTIVE_EMB)={len(FILES_OBJECTIVE_EMB)}\")\n",
    "    print(f\"len(FILES_CLIP_EMB)={len(FILES_CLIP_EMB)}\")"
   ]
  },
  {
   "cell_type": "markdown",
   "id": "a1197b80",
   "metadata": {
    "papermill": {
     "duration": 0.012567,
     "end_time": "2023-05-09T04:24:51.985639",
     "exception": false,
     "start_time": "2023-05-09T04:24:51.973072",
     "status": "completed"
    },
    "tags": []
   },
   "source": [
    "## k-NN Regression (CUDA)\n"
   ]
  },
  {
   "cell_type": "code",
   "execution_count": 33,
   "id": "6dadb6c6",
   "metadata": {
    "execution": {
     "iopub.execute_input": "2023-05-09T04:24:52.013455Z",
     "iopub.status.busy": "2023-05-09T04:24:52.012252Z",
     "iopub.status.idle": "2023-05-09T04:24:52.026285Z",
     "shell.execute_reply": "2023-05-09T04:24:52.025162Z"
    },
    "papermill": {
     "duration": 0.030798,
     "end_time": "2023-05-09T04:24:52.028848",
     "exception": false,
     "start_time": "2023-05-09T04:24:51.998050",
     "status": "completed"
    },
    "tags": []
   },
   "outputs": [],
   "source": [
    "def predict_local_knn(\n",
    "    ref_x_embeddings, test_x_embeddings, \n",
    "    n_neighbors=CFG.knn_topk,\n",
    "    interval=CFG.knn_interval,\n",
    "    distance_dim=CFG.knn_dim,\n",
    "    coef=1.0, # a coef to prevent from overflow\n",
    "):\n",
    "    \n",
    "    # convert to tensor\n",
    "    ref_x_embeddings = torch.from_numpy(ref_x_embeddings).to('cuda')\n",
    "    ref_x_embeddings /= ref_x_embeddings.norm(dim=-1, keepdim=True)\n",
    "    \n",
    "    n_iter = test_x_embeddings.shape[0]//interval\n",
    "    if test_x_embeddings.shape[0]%interval != 0:\n",
    "        n_iter += 1\n",
    "        \n",
    "    dist_topk_store = []\n",
    "    idxs_topk_store = []\n",
    "    weights_store = []\n",
    "    preds = []\n",
    "    delta = 0.0001\n",
    "    for i in range(n_iter):\n",
    "        batch_test_embeddings = torch.from_numpy(\n",
    "            test_x_embeddings[i*interval:(i+1)*interval, :].copy()\n",
    "        ).to('cuda')\n",
    "        batch_test_embeddings /= batch_test_embeddings.norm(dim=-1, keepdim=True)\n",
    "        \n",
    "        # calc distance matrix\n",
    "        dists = 1 - torch.mm(batch_test_embeddings, ref_x_embeddings.T) # dists.shape=[N_test, N_ref]\n",
    "        del batch_test_embeddings\n",
    "        gc.collect()\n",
    "        \n",
    "        # get topk indecies and distance\n",
    "        dist_topk, idxs_topk = torch.topk(dists, n_neighbors, largest=False, dim=-1)\n",
    "        dist_topk = dist_topk.to(torch.float64)        \n",
    "        \n",
    "        # calc weights from distance\n",
    "        weights = 1/(dist_topk**distance_dim+delta)*coef\n",
    "        weights[ dist_topk < 0 ] = delta\n",
    "        \n",
    "        dist_topk_store.append( dist_topk.to('cpu').detach().numpy().copy() )\n",
    "        idxs_topk_store.append( idxs_topk.to('cpu').detach().numpy().copy() )\n",
    "        weights_store.append( weights.to('cpu').detach().numpy().copy() )\n",
    "                \n",
    "        del dists, weights, dist_topk, idxs_topk\n",
    "        torch.cuda.empty_cache()\n",
    "        gc.collect()\n",
    "        \n",
    "    del ref_x_embeddings\n",
    "    torch.cuda.empty_cache()\n",
    "    gc.collect()\n",
    "    return np.concatenate(dist_topk_store), np.concatenate(idxs_topk_store), np.concatenate(weights_store)"
   ]
  },
  {
   "cell_type": "code",
   "execution_count": 34,
   "id": "1ba2b2e7",
   "metadata": {
    "execution": {
     "iopub.execute_input": "2023-05-09T04:24:52.056135Z",
     "iopub.status.busy": "2023-05-09T04:24:52.055766Z",
     "iopub.status.idle": "2023-05-09T04:25:16.085939Z",
     "shell.execute_reply": "2023-05-09T04:25:16.084699Z"
    },
    "papermill": {
     "duration": 24.047229,
     "end_time": "2023-05-09T04:25:16.088994",
     "exception": false,
     "start_time": "2023-05-09T04:24:52.041765",
     "status": "completed"
    },
    "tags": []
   },
   "outputs": [
    {
     "data": {
      "application/vnd.jupyter.widget-view+json": {
       "model_id": "fc89dc0b8cb64c7c821b02cb046b4b45",
       "version_major": 2,
       "version_minor": 0
      },
      "text/plain": [
       "  0%|          | 0/5 [00:00<?, ?it/s]"
      ]
     },
     "metadata": {},
     "output_type": "display_data"
    }
   ],
   "source": [
    "for i_file, file_clip_emb in enumerate(tqdm(FILES_CLIP_EMB)):\n",
    "    # Local k-NN (for each CLIP embeddings file VS CLIP vision embeddings of test images)\n",
    "    ref_clip_embeddings = np.load(file_clip_emb).astype(np.float16)\n",
    "    with torch.no_grad():\n",
    "        local_dists, local_emb_indecies, local_weights = predict_local_knn(\n",
    "            ref_clip_embeddings, test_vision_embeddings,\n",
    "            n_neighbors=CFG.knn_topk, interval=CFG.knn_interval, distance_dim=CFG.knn_dim,\n",
    "            coef=0.001\n",
    "        )\n",
    "    local_files = np.zeros(local_dists.shape, dtype=np.int32) + i_file\n",
    "    \n",
    "    # merge local k-NN into global k-NN\n",
    "    if i_file == 0:\n",
    "        global_files = local_files\n",
    "        global_dists = local_dists\n",
    "        global_emb_indecies = local_emb_indecies\n",
    "        global_weights = local_weights\n",
    "    else:\n",
    "        global_files = np.concatenate([global_files, local_files], axis=-1)\n",
    "        global_dists = np.concatenate([global_dists, local_dists], axis=-1)\n",
    "        global_emb_indecies = np.concatenate([global_emb_indecies, local_emb_indecies], axis=-1)\n",
    "        global_weights = np.concatenate([global_weights, local_weights], axis=-1)\n",
    "\n",
    "        unsorted_min_indices = np.argpartition(global_dists, CFG.knn_topk, axis=1)[:, :CFG.knn_topk]\n",
    "\n",
    "        global_files = np.vstack( [ global_files[i, unsorted_min_indices[i,:]] for i in range(unsorted_min_indices.shape[0]) ])\n",
    "        global_dists = np.vstack( [ global_dists[i, unsorted_min_indices[i,:]] for i in range(unsorted_min_indices.shape[0]) ])\n",
    "        global_emb_indecies = np.vstack( [ global_emb_indecies[i, unsorted_min_indices[i,:]] for i in range(unsorted_min_indices.shape[0]) ])\n",
    "        global_weights = np.vstack( [ global_weights[i, unsorted_min_indices[i,:]] for i in range(unsorted_min_indices.shape[0]) ])\n",
    "    \n",
    "    gc.collect()"
   ]
  },
  {
   "cell_type": "code",
   "execution_count": 35,
   "id": "37c36364",
   "metadata": {
    "execution": {
     "iopub.execute_input": "2023-05-09T04:25:16.119070Z",
     "iopub.status.busy": "2023-05-09T04:25:16.118030Z",
     "iopub.status.idle": "2023-05-09T04:25:16.171758Z",
     "shell.execute_reply": "2023-05-09T04:25:16.170300Z"
    },
    "papermill": {
     "duration": 0.071708,
     "end_time": "2023-05-09T04:25:16.174891",
     "exception": false,
     "start_time": "2023-05-09T04:25:16.103183",
     "status": "completed"
    },
    "tags": []
   },
   "outputs": [
    {
     "data": {
      "text/html": [
       "<div>\n",
       "<style scoped>\n",
       "    .dataframe tbody tr th:only-of-type {\n",
       "        vertical-align: middle;\n",
       "    }\n",
       "\n",
       "    .dataframe tbody tr th {\n",
       "        vertical-align: top;\n",
       "    }\n",
       "\n",
       "    .dataframe thead th {\n",
       "        text-align: right;\n",
       "    }\n",
       "</style>\n",
       "<table border=\"1\" class=\"dataframe\">\n",
       "  <thead>\n",
       "    <tr style=\"text-align: right;\">\n",
       "      <th></th>\n",
       "      <th>file</th>\n",
       "      <th>dist</th>\n",
       "      <th>emb_index</th>\n",
       "      <th>test_index</th>\n",
       "      <th>weight</th>\n",
       "    </tr>\n",
       "  </thead>\n",
       "  <tbody>\n",
       "    <tr>\n",
       "      <th>0</th>\n",
       "      <td>/kaggle/input/pub-embeddings-diffusiondb-14m-p...</td>\n",
       "      <td>0.721680</td>\n",
       "      <td>31775</td>\n",
       "      <td>0</td>\n",
       "      <td>0.007073</td>\n",
       "    </tr>\n",
       "    <tr>\n",
       "      <th>1</th>\n",
       "      <td>/kaggle/input/pub-embeddings-diffusiondb-14m-p...</td>\n",
       "      <td>0.703613</td>\n",
       "      <td>91659</td>\n",
       "      <td>0</td>\n",
       "      <td>0.008235</td>\n",
       "    </tr>\n",
       "    <tr>\n",
       "      <th>2</th>\n",
       "      <td>/kaggle/input/pub-embeddings-diffusiondb-14m-p...</td>\n",
       "      <td>0.683594</td>\n",
       "      <td>24003</td>\n",
       "      <td>0</td>\n",
       "      <td>0.009790</td>\n",
       "    </tr>\n",
       "    <tr>\n",
       "      <th>3</th>\n",
       "      <td>/kaggle/input/pub-embeddings-diffusiondb-14m-p...</td>\n",
       "      <td>0.683594</td>\n",
       "      <td>24002</td>\n",
       "      <td>0</td>\n",
       "      <td>0.009790</td>\n",
       "    </tr>\n",
       "    <tr>\n",
       "      <th>4</th>\n",
       "      <td>/kaggle/input/pub-embeddings-diffusiondb-14m-p...</td>\n",
       "      <td>0.683594</td>\n",
       "      <td>24001</td>\n",
       "      <td>0</td>\n",
       "      <td>0.009790</td>\n",
       "    </tr>\n",
       "    <tr>\n",
       "      <th>...</th>\n",
       "      <td>...</td>\n",
       "      <td>...</td>\n",
       "      <td>...</td>\n",
       "      <td>...</td>\n",
       "      <td>...</td>\n",
       "    </tr>\n",
       "    <tr>\n",
       "      <th>695</th>\n",
       "      <td>/kaggle/input/pub-embeddings-diffusiondb-14m-p...</td>\n",
       "      <td>0.669922</td>\n",
       "      <td>77657</td>\n",
       "      <td>6</td>\n",
       "      <td>0.011050</td>\n",
       "    </tr>\n",
       "    <tr>\n",
       "      <th>696</th>\n",
       "      <td>/kaggle/input/pub-embeddings-diffusiondb-14m-p...</td>\n",
       "      <td>0.669922</td>\n",
       "      <td>77656</td>\n",
       "      <td>6</td>\n",
       "      <td>0.011050</td>\n",
       "    </tr>\n",
       "    <tr>\n",
       "      <th>697</th>\n",
       "      <td>/kaggle/input/pub-embeddings-diffusiondb-14m-p...</td>\n",
       "      <td>0.670410</td>\n",
       "      <td>23575</td>\n",
       "      <td>6</td>\n",
       "      <td>0.011002</td>\n",
       "    </tr>\n",
       "    <tr>\n",
       "      <th>698</th>\n",
       "      <td>/kaggle/input/pub-embeddings-diffusiondb-14m-p...</td>\n",
       "      <td>0.670410</td>\n",
       "      <td>23579</td>\n",
       "      <td>6</td>\n",
       "      <td>0.011002</td>\n",
       "    </tr>\n",
       "    <tr>\n",
       "      <th>699</th>\n",
       "      <td>/kaggle/input/pub-embeddings-diffusiondb-14m-p...</td>\n",
       "      <td>0.670410</td>\n",
       "      <td>23574</td>\n",
       "      <td>6</td>\n",
       "      <td>0.011002</td>\n",
       "    </tr>\n",
       "  </tbody>\n",
       "</table>\n",
       "<p>700 rows × 5 columns</p>\n",
       "</div>"
      ],
      "text/plain": [
       "                                                  file      dist  emb_index  \\\n",
       "0    /kaggle/input/pub-embeddings-diffusiondb-14m-p...  0.721680      31775   \n",
       "1    /kaggle/input/pub-embeddings-diffusiondb-14m-p...  0.703613      91659   \n",
       "2    /kaggle/input/pub-embeddings-diffusiondb-14m-p...  0.683594      24003   \n",
       "3    /kaggle/input/pub-embeddings-diffusiondb-14m-p...  0.683594      24002   \n",
       "4    /kaggle/input/pub-embeddings-diffusiondb-14m-p...  0.683594      24001   \n",
       "..                                                 ...       ...        ...   \n",
       "695  /kaggle/input/pub-embeddings-diffusiondb-14m-p...  0.669922      77657   \n",
       "696  /kaggle/input/pub-embeddings-diffusiondb-14m-p...  0.669922      77656   \n",
       "697  /kaggle/input/pub-embeddings-diffusiondb-14m-p...  0.670410      23575   \n",
       "698  /kaggle/input/pub-embeddings-diffusiondb-14m-p...  0.670410      23579   \n",
       "699  /kaggle/input/pub-embeddings-diffusiondb-14m-p...  0.670410      23574   \n",
       "\n",
       "     test_index    weight  \n",
       "0             0  0.007073  \n",
       "1             0  0.008235  \n",
       "2             0  0.009790  \n",
       "3             0  0.009790  \n",
       "4             0  0.009790  \n",
       "..          ...       ...  \n",
       "695           6  0.011050  \n",
       "696           6  0.011050  \n",
       "697           6  0.011002  \n",
       "698           6  0.011002  \n",
       "699           6  0.011002  \n",
       "\n",
       "[700 rows x 5 columns]"
      ]
     },
     "execution_count": 35,
     "metadata": {},
     "output_type": "execute_result"
    }
   ],
   "source": [
    "df_knn = pd.DataFrame()\n",
    "df_knn[\"file\"] = global_files.flatten()\n",
    "df_knn[\"file\"] = df_knn['file'].apply(lambda x: FILES_OBJECTIVE_EMB[x])\n",
    "df_knn[\"dist\"] = global_dists.flatten()\n",
    "df_knn[\"emb_index\"] = global_emb_indecies.flatten()\n",
    "df_knn[\"test_index\"] = np.array([ [val]*CFG.knn_topk for val in range(test_vision_embeddings.shape[0])]).flatten()\n",
    "df_knn[\"weight\"] = global_weights.flatten()\n",
    "df_knn"
   ]
  },
  {
   "cell_type": "code",
   "execution_count": 36,
   "id": "9766d2d7",
   "metadata": {
    "execution": {
     "iopub.execute_input": "2023-05-09T04:25:16.204644Z",
     "iopub.status.busy": "2023-05-09T04:25:16.204248Z",
     "iopub.status.idle": "2023-05-09T04:25:16.378046Z",
     "shell.execute_reply": "2023-05-09T04:25:16.376915Z"
    },
    "papermill": {
     "duration": 0.191975,
     "end_time": "2023-05-09T04:25:16.381434",
     "exception": false,
     "start_time": "2023-05-09T04:25:16.189459",
     "status": "completed"
    },
    "tags": []
   },
   "outputs": [
    {
     "data": {
      "text/plain": [
       "39"
      ]
     },
     "execution_count": 36,
     "metadata": {},
     "output_type": "execute_result"
    }
   ],
   "source": [
    "gc.collect()"
   ]
  },
  {
   "cell_type": "code",
   "execution_count": 37,
   "id": "2b685976",
   "metadata": {
    "execution": {
     "iopub.execute_input": "2023-05-09T04:25:16.411892Z",
     "iopub.status.busy": "2023-05-09T04:25:16.410482Z",
     "iopub.status.idle": "2023-05-09T04:25:19.677395Z",
     "shell.execute_reply": "2023-05-09T04:25:19.676179Z"
    },
    "papermill": {
     "duration": 3.285059,
     "end_time": "2023-05-09T04:25:19.680227",
     "exception": false,
     "start_time": "2023-05-09T04:25:16.395168",
     "status": "completed"
    },
    "tags": []
   },
   "outputs": [
    {
     "data": {
      "application/vnd.jupyter.widget-view+json": {
       "model_id": "c2850179bc264ea2a962a1c88006595f",
       "version_major": 2,
       "version_minor": 0
      },
      "text/plain": [
       "  0%|          | 0/5 [00:00<?, ?it/s]"
      ]
     },
     "metadata": {},
     "output_type": "display_data"
    }
   ],
   "source": [
    "# k-NN regression\n",
    "test_prompt_embeddings = np.zeros( (test_vision_embeddings.shape[0], 384))\n",
    "for (objective_emb_file, gdf) in tqdm(df_knn.groupby(\"file\")):\n",
    "    ref_objective_embeddings = np.load(objective_emb_file).astype(np.float16) \n",
    "    for _, r in gdf.iterrows():\n",
    "        test_prompt_embeddings[int(r.test_index), :] += r.weight * ref_objective_embeddings[int(r.emb_index), :]"
   ]
  },
  {
   "cell_type": "code",
   "execution_count": 38,
   "id": "ea0640f8",
   "metadata": {
    "execution": {
     "iopub.execute_input": "2023-05-09T04:25:19.708579Z",
     "iopub.status.busy": "2023-05-09T04:25:19.708161Z",
     "iopub.status.idle": "2023-05-09T04:25:19.877814Z",
     "shell.execute_reply": "2023-05-09T04:25:19.876575Z"
    },
    "papermill": {
     "duration": 0.186731,
     "end_time": "2023-05-09T04:25:19.880394",
     "exception": false,
     "start_time": "2023-05-09T04:25:19.693663",
     "status": "completed"
    },
    "tags": []
   },
   "outputs": [
    {
     "data": {
      "text/plain": [
       "122"
      ]
     },
     "execution_count": 38,
     "metadata": {},
     "output_type": "execute_result"
    }
   ],
   "source": [
    "# L2 norm\n",
    "BS=1000\n",
    "num = test_prompt_embeddings.shape[0] // BS\n",
    "if test_prompt_embeddings.shape[0] % BS != 0:\n",
    "    num+=1\n",
    "for i in range(num):\n",
    "    embeddings = test_prompt_embeddings[i*BS:(i+1)*BS, :]\n",
    "    embeddings = embeddings / ( np.abs(embeddings).max(axis=-1, keepdims=True) + 0.0000001)\n",
    "    embeddings = normalize( embeddings )\n",
    "    test_prompt_embeddings[i*BS:(i+1)*BS, :] = embeddings\n",
    "gc.collect()"
   ]
  },
  {
   "cell_type": "code",
   "execution_count": 39,
   "id": "1c4bd1cf",
   "metadata": {
    "execution": {
     "iopub.execute_input": "2023-05-09T04:25:19.910013Z",
     "iopub.status.busy": "2023-05-09T04:25:19.909615Z",
     "iopub.status.idle": "2023-05-09T04:25:19.916165Z",
     "shell.execute_reply": "2023-05-09T04:25:19.915033Z"
    },
    "papermill": {
     "duration": 0.024236,
     "end_time": "2023-05-09T04:25:19.918510",
     "exception": false,
     "start_time": "2023-05-09T04:25:19.894274",
     "status": "completed"
    },
    "tags": []
   },
   "outputs": [],
   "source": [
    "test_prompt_embeddings = test_prompt_embeddings.flatten()"
   ]
  },
  {
   "cell_type": "markdown",
   "id": "3aaceaa4",
   "metadata": {
    "papermill": {
     "duration": 0.013585,
     "end_time": "2023-05-09T04:25:19.946395",
     "exception": false,
     "start_time": "2023-05-09T04:25:19.932810",
     "status": "completed"
    },
    "tags": []
   },
   "source": [
    "#### <a id=\"top\"></a>\n",
    "# <div style=\"box-shadow: rgb(60, 121, 245) 0px 0px 0px 3px inset, rgb(255, 255, 255) 10px -10px 0px -3px, rgb(31, 193, 27) 10px -10px, rgb(255, 255, 255) 20px -20px 0px -3px, rgb(255, 217, 19) 20px -20px, rgb(255, 255, 255) 30px -30px 0px -3px, rgb(255, 156, 85) 30px -30px, rgb(255, 255, 255) 40px -40px 0px -3px, rgb(255, 85, 85) 40px -40px; padding:20px; margin-right: 40px; font-size:30px; font-family: consolas; text-align:center; display:fill; border-radius:15px; color:rgb(60, 121, 245);\"><b> ENSEMBLE </b></div>"
   ]
  },
  {
   "cell_type": "code",
   "execution_count": 40,
   "id": "820a5a79",
   "metadata": {
    "execution": {
     "iopub.execute_input": "2023-05-09T04:25:19.977788Z",
     "iopub.status.busy": "2023-05-09T04:25:19.975542Z",
     "iopub.status.idle": "2023-05-09T04:25:19.983542Z",
     "shell.execute_reply": "2023-05-09T04:25:19.982392Z"
    },
    "papermill": {
     "duration": 0.02547,
     "end_time": "2023-05-09T04:25:19.986113",
     "exception": false,
     "start_time": "2023-05-09T04:25:19.960643",
     "status": "completed"
    },
    "tags": []
   },
   "outputs": [],
   "source": [
    "test_prompt_embeddings = test_prompt_embeddings*ratio_KNN +embeddings1*ratio_beitv2 + embeddings2*ratio_vit_l + embeddings3*ratio_beit_b\n"
   ]
  },
  {
   "cell_type": "code",
   "execution_count": 41,
   "id": "6d0ecc41",
   "metadata": {
    "execution": {
     "iopub.execute_input": "2023-05-09T04:25:20.016650Z",
     "iopub.status.busy": "2023-05-09T04:25:20.014660Z",
     "iopub.status.idle": "2023-05-09T04:25:20.040149Z",
     "shell.execute_reply": "2023-05-09T04:25:20.039032Z"
    },
    "papermill": {
     "duration": 0.042781,
     "end_time": "2023-05-09T04:25:20.042666",
     "exception": false,
     "start_time": "2023-05-09T04:25:19.999885",
     "status": "completed"
    },
    "tags": []
   },
   "outputs": [],
   "source": [
    "imgIds = [i.stem for i in test_images]\n",
    "EMBEDDING_LENGTH = 384\n",
    "imgId_eId = [\n",
    "    '_'.join(map(str, i)) for i in zip(\n",
    "        np.repeat(imgIds, EMBEDDING_LENGTH),\n",
    "        np.tile(range(EMBEDDING_LENGTH), len(imgIds)))]\n",
    "\n",
    "submission = pd.DataFrame(\n",
    "    index=imgId_eId,\n",
    "    data=test_prompt_embeddings,\n",
    "    columns=['val']\n",
    ").rename_axis('imgId_eId')\n",
    "submission.to_csv('submission.csv')"
   ]
  }
 ],
 "metadata": {
  "kernelspec": {
   "display_name": "Python 3",
   "language": "python",
   "name": "python3"
  },
  "language_info": {
   "codemirror_mode": {
    "name": "ipython",
    "version": 3
   },
   "file_extension": ".py",
   "mimetype": "text/x-python",
   "name": "python",
   "nbconvert_exporter": "python",
   "pygments_lexer": "ipython3",
   "version": "3.7.12"
  },
  "papermill": {
   "default_parameters": {},
   "duration": 185.052429,
   "end_time": "2023-05-09T04:25:23.532890",
   "environment_variables": {},
   "exception": null,
   "input_path": "__notebook__.ipynb",
   "output_path": "__notebook__.ipynb",
   "parameters": {},
   "start_time": "2023-05-09T04:22:18.480461",
   "version": "2.4.0"
  },
  "widgets": {
   "application/vnd.jupyter.widget-state+json": {
    "state": {
     "0009ba44a9fd44f38bc7f744cdd5b439": {
      "model_module": "@jupyter-widgets/base",
      "model_module_version": "1.2.0",
      "model_name": "LayoutModel",
      "state": {
       "_model_module": "@jupyter-widgets/base",
       "_model_module_version": "1.2.0",
       "_model_name": "LayoutModel",
       "_view_count": null,
       "_view_module": "@jupyter-widgets/base",
       "_view_module_version": "1.2.0",
       "_view_name": "LayoutView",
       "align_content": null,
       "align_items": null,
       "align_self": null,
       "border": null,
       "bottom": null,
       "display": null,
       "flex": null,
       "flex_flow": null,
       "grid_area": null,
       "grid_auto_columns": null,
       "grid_auto_flow": null,
       "grid_auto_rows": null,
       "grid_column": null,
       "grid_gap": null,
       "grid_row": null,
       "grid_template_areas": null,
       "grid_template_columns": null,
       "grid_template_rows": null,
       "height": null,
       "justify_content": null,
       "justify_items": null,
       "left": null,
       "margin": null,
       "max_height": null,
       "max_width": null,
       "min_height": null,
       "min_width": null,
       "object_fit": null,
       "object_position": null,
       "order": null,
       "overflow": null,
       "overflow_x": null,
       "overflow_y": null,
       "padding": null,
       "right": null,
       "top": null,
       "visibility": "hidden",
       "width": null
      }
     },
     "00f309ebac034c079dab5edabfe7ce9c": {
      "model_module": "@jupyter-widgets/controls",
      "model_module_version": "1.5.0",
      "model_name": "DescriptionStyleModel",
      "state": {
       "_model_module": "@jupyter-widgets/controls",
       "_model_module_version": "1.5.0",
       "_model_name": "DescriptionStyleModel",
       "_view_count": null,
       "_view_module": "@jupyter-widgets/base",
       "_view_module_version": "1.2.0",
       "_view_name": "StyleView",
       "description_width": ""
      }
     },
     "0202bf2dfb6a4aafb46ac8851d01d2a3": {
      "model_module": "@jupyter-widgets/controls",
      "model_module_version": "1.5.0",
      "model_name": "DescriptionStyleModel",
      "state": {
       "_model_module": "@jupyter-widgets/controls",
       "_model_module_version": "1.5.0",
       "_model_name": "DescriptionStyleModel",
       "_view_count": null,
       "_view_module": "@jupyter-widgets/base",
       "_view_module_version": "1.2.0",
       "_view_name": "StyleView",
       "description_width": ""
      }
     },
     "020f561eabae4fe8b1e71b894737ca78": {
      "model_module": "@jupyter-widgets/controls",
      "model_module_version": "1.5.0",
      "model_name": "ProgressStyleModel",
      "state": {
       "_model_module": "@jupyter-widgets/controls",
       "_model_module_version": "1.5.0",
       "_model_name": "ProgressStyleModel",
       "_view_count": null,
       "_view_module": "@jupyter-widgets/base",
       "_view_module_version": "1.2.0",
       "_view_name": "StyleView",
       "bar_color": null,
       "description_width": ""
      }
     },
     "04ff00b047304f6f90a59bb6aabb6ca9": {
      "model_module": "@jupyter-widgets/controls",
      "model_module_version": "1.5.0",
      "model_name": "HTMLModel",
      "state": {
       "_dom_classes": [],
       "_model_module": "@jupyter-widgets/controls",
       "_model_module_version": "1.5.0",
       "_model_name": "HTMLModel",
       "_view_count": null,
       "_view_module": "@jupyter-widgets/controls",
       "_view_module_version": "1.5.0",
       "_view_name": "HTMLView",
       "description": "",
       "description_tooltip": null,
       "layout": "IPY_MODEL_a5744c4fcf6442daa53f8fcdfdda286e",
       "placeholder": "​",
       "style": "IPY_MODEL_a96e3bc86a0145fc94cbaa93b747db9e",
       "value": "100%"
      }
     },
     "088e6ec66386475ca3ccb5a3e575416f": {
      "model_module": "@jupyter-widgets/base",
      "model_module_version": "1.2.0",
      "model_name": "LayoutModel",
      "state": {
       "_model_module": "@jupyter-widgets/base",
       "_model_module_version": "1.2.0",
       "_model_name": "LayoutModel",
       "_view_count": null,
       "_view_module": "@jupyter-widgets/base",
       "_view_module_version": "1.2.0",
       "_view_name": "LayoutView",
       "align_content": null,
       "align_items": null,
       "align_self": null,
       "border": null,
       "bottom": null,
       "display": null,
       "flex": null,
       "flex_flow": null,
       "grid_area": null,
       "grid_auto_columns": null,
       "grid_auto_flow": null,
       "grid_auto_rows": null,
       "grid_column": null,
       "grid_gap": null,
       "grid_row": null,
       "grid_template_areas": null,
       "grid_template_columns": null,
       "grid_template_rows": null,
       "height": null,
       "justify_content": null,
       "justify_items": null,
       "left": null,
       "margin": null,
       "max_height": null,
       "max_width": null,
       "min_height": null,
       "min_width": null,
       "object_fit": null,
       "object_position": null,
       "order": null,
       "overflow": null,
       "overflow_x": null,
       "overflow_y": null,
       "padding": null,
       "right": null,
       "top": null,
       "visibility": null,
       "width": null
      }
     },
     "0b8e488ce1a3445b9292572c34ac4229": {
      "model_module": "@jupyter-widgets/base",
      "model_module_version": "1.2.0",
      "model_name": "LayoutModel",
      "state": {
       "_model_module": "@jupyter-widgets/base",
       "_model_module_version": "1.2.0",
       "_model_name": "LayoutModel",
       "_view_count": null,
       "_view_module": "@jupyter-widgets/base",
       "_view_module_version": "1.2.0",
       "_view_name": "LayoutView",
       "align_content": null,
       "align_items": null,
       "align_self": null,
       "border": null,
       "bottom": null,
       "display": null,
       "flex": null,
       "flex_flow": null,
       "grid_area": null,
       "grid_auto_columns": null,
       "grid_auto_flow": null,
       "grid_auto_rows": null,
       "grid_column": null,
       "grid_gap": null,
       "grid_row": null,
       "grid_template_areas": null,
       "grid_template_columns": null,
       "grid_template_rows": null,
       "height": null,
       "justify_content": null,
       "justify_items": null,
       "left": null,
       "margin": null,
       "max_height": null,
       "max_width": null,
       "min_height": null,
       "min_width": null,
       "object_fit": null,
       "object_position": null,
       "order": null,
       "overflow": null,
       "overflow_x": null,
       "overflow_y": null,
       "padding": null,
       "right": null,
       "top": null,
       "visibility": "hidden",
       "width": null
      }
     },
     "0d913ebbe0f14d0cbdb3459bad994faa": {
      "model_module": "@jupyter-widgets/base",
      "model_module_version": "1.2.0",
      "model_name": "LayoutModel",
      "state": {
       "_model_module": "@jupyter-widgets/base",
       "_model_module_version": "1.2.0",
       "_model_name": "LayoutModel",
       "_view_count": null,
       "_view_module": "@jupyter-widgets/base",
       "_view_module_version": "1.2.0",
       "_view_name": "LayoutView",
       "align_content": null,
       "align_items": null,
       "align_self": null,
       "border": null,
       "bottom": null,
       "display": null,
       "flex": null,
       "flex_flow": null,
       "grid_area": null,
       "grid_auto_columns": null,
       "grid_auto_flow": null,
       "grid_auto_rows": null,
       "grid_column": null,
       "grid_gap": null,
       "grid_row": null,
       "grid_template_areas": null,
       "grid_template_columns": null,
       "grid_template_rows": null,
       "height": null,
       "justify_content": null,
       "justify_items": null,
       "left": null,
       "margin": null,
       "max_height": null,
       "max_width": null,
       "min_height": null,
       "min_width": null,
       "object_fit": null,
       "object_position": null,
       "order": null,
       "overflow": null,
       "overflow_x": null,
       "overflow_y": null,
       "padding": null,
       "right": null,
       "top": null,
       "visibility": "hidden",
       "width": null
      }
     },
     "0e1759b412f04b68b7dfa9685d977d03": {
      "model_module": "@jupyter-widgets/controls",
      "model_module_version": "1.5.0",
      "model_name": "HTMLModel",
      "state": {
       "_dom_classes": [],
       "_model_module": "@jupyter-widgets/controls",
       "_model_module_version": "1.5.0",
       "_model_name": "HTMLModel",
       "_view_count": null,
       "_view_module": "@jupyter-widgets/controls",
       "_view_module_version": "1.5.0",
       "_view_name": "HTMLView",
       "description": "",
       "description_tooltip": null,
       "layout": "IPY_MODEL_481670e68bab441d95ef5b469d132bc0",
       "placeholder": "​",
       "style": "IPY_MODEL_c60cfc72dd7547cbbecc7bf0a2da28d9",
       "value": "100%"
      }
     },
     "0e586407fa30474f8b8727fb4ea429a4": {
      "model_module": "@jupyter-widgets/base",
      "model_module_version": "1.2.0",
      "model_name": "LayoutModel",
      "state": {
       "_model_module": "@jupyter-widgets/base",
       "_model_module_version": "1.2.0",
       "_model_name": "LayoutModel",
       "_view_count": null,
       "_view_module": "@jupyter-widgets/base",
       "_view_module_version": "1.2.0",
       "_view_name": "LayoutView",
       "align_content": null,
       "align_items": null,
       "align_self": null,
       "border": null,
       "bottom": null,
       "display": null,
       "flex": null,
       "flex_flow": null,
       "grid_area": null,
       "grid_auto_columns": null,
       "grid_auto_flow": null,
       "grid_auto_rows": null,
       "grid_column": null,
       "grid_gap": null,
       "grid_row": null,
       "grid_template_areas": null,
       "grid_template_columns": null,
       "grid_template_rows": null,
       "height": null,
       "justify_content": null,
       "justify_items": null,
       "left": null,
       "margin": null,
       "max_height": null,
       "max_width": null,
       "min_height": null,
       "min_width": null,
       "object_fit": null,
       "object_position": null,
       "order": null,
       "overflow": null,
       "overflow_x": null,
       "overflow_y": null,
       "padding": null,
       "right": null,
       "top": null,
       "visibility": null,
       "width": null
      }
     },
     "12b95b6409ae4153a42fcac1180d119a": {
      "model_module": "@jupyter-widgets/controls",
      "model_module_version": "1.5.0",
      "model_name": "HTMLModel",
      "state": {
       "_dom_classes": [],
       "_model_module": "@jupyter-widgets/controls",
       "_model_module_version": "1.5.0",
       "_model_name": "HTMLModel",
       "_view_count": null,
       "_view_module": "@jupyter-widgets/controls",
       "_view_module_version": "1.5.0",
       "_view_name": "HTMLView",
       "description": "",
       "description_tooltip": null,
       "layout": "IPY_MODEL_3ba186bdf65b46278439c6f1339a6154",
       "placeholder": "​",
       "style": "IPY_MODEL_92c5242ad96c4428a7c5b749968da01f",
       "value": "100%"
      }
     },
     "15ecb3c38dab47d4971c98729b963bea": {
      "model_module": "@jupyter-widgets/base",
      "model_module_version": "1.2.0",
      "model_name": "LayoutModel",
      "state": {
       "_model_module": "@jupyter-widgets/base",
       "_model_module_version": "1.2.0",
       "_model_name": "LayoutModel",
       "_view_count": null,
       "_view_module": "@jupyter-widgets/base",
       "_view_module_version": "1.2.0",
       "_view_name": "LayoutView",
       "align_content": null,
       "align_items": null,
       "align_self": null,
       "border": null,
       "bottom": null,
       "display": null,
       "flex": null,
       "flex_flow": null,
       "grid_area": null,
       "grid_auto_columns": null,
       "grid_auto_flow": null,
       "grid_auto_rows": null,
       "grid_column": null,
       "grid_gap": null,
       "grid_row": null,
       "grid_template_areas": null,
       "grid_template_columns": null,
       "grid_template_rows": null,
       "height": null,
       "justify_content": null,
       "justify_items": null,
       "left": null,
       "margin": null,
       "max_height": null,
       "max_width": null,
       "min_height": null,
       "min_width": null,
       "object_fit": null,
       "object_position": null,
       "order": null,
       "overflow": null,
       "overflow_x": null,
       "overflow_y": null,
       "padding": null,
       "right": null,
       "top": null,
       "visibility": null,
       "width": null
      }
     },
     "17d31c088ffd43539818e8ad6249cc57": {
      "model_module": "@jupyter-widgets/controls",
      "model_module_version": "1.5.0",
      "model_name": "DescriptionStyleModel",
      "state": {
       "_model_module": "@jupyter-widgets/controls",
       "_model_module_version": "1.5.0",
       "_model_name": "DescriptionStyleModel",
       "_view_count": null,
       "_view_module": "@jupyter-widgets/base",
       "_view_module_version": "1.2.0",
       "_view_name": "StyleView",
       "description_width": ""
      }
     },
     "1b1f24f98f5448e090b064c2e84e10b3": {
      "model_module": "@jupyter-widgets/controls",
      "model_module_version": "1.5.0",
      "model_name": "HTMLModel",
      "state": {
       "_dom_classes": [],
       "_model_module": "@jupyter-widgets/controls",
       "_model_module_version": "1.5.0",
       "_model_name": "HTMLModel",
       "_view_count": null,
       "_view_module": "@jupyter-widgets/controls",
       "_view_module_version": "1.5.0",
       "_view_name": "HTMLView",
       "description": "",
       "description_tooltip": null,
       "layout": "IPY_MODEL_65a5ecd6da91445da591957f818c67e3",
       "placeholder": "​",
       "style": "IPY_MODEL_a95e2bf391604a9892bdae9e3fdcc9a8",
       "value": "100%"
      }
     },
     "2457791aca7d4413b81f66a0ecc67974": {
      "model_module": "@jupyter-widgets/base",
      "model_module_version": "1.2.0",
      "model_name": "LayoutModel",
      "state": {
       "_model_module": "@jupyter-widgets/base",
       "_model_module_version": "1.2.0",
       "_model_name": "LayoutModel",
       "_view_count": null,
       "_view_module": "@jupyter-widgets/base",
       "_view_module_version": "1.2.0",
       "_view_name": "LayoutView",
       "align_content": null,
       "align_items": null,
       "align_self": null,
       "border": null,
       "bottom": null,
       "display": null,
       "flex": null,
       "flex_flow": null,
       "grid_area": null,
       "grid_auto_columns": null,
       "grid_auto_flow": null,
       "grid_auto_rows": null,
       "grid_column": null,
       "grid_gap": null,
       "grid_row": null,
       "grid_template_areas": null,
       "grid_template_columns": null,
       "grid_template_rows": null,
       "height": null,
       "justify_content": null,
       "justify_items": null,
       "left": null,
       "margin": null,
       "max_height": null,
       "max_width": null,
       "min_height": null,
       "min_width": null,
       "object_fit": null,
       "object_position": null,
       "order": null,
       "overflow": null,
       "overflow_x": null,
       "overflow_y": null,
       "padding": null,
       "right": null,
       "top": null,
       "visibility": null,
       "width": null
      }
     },
     "25b4b56c2cf94411922af6550ed4b0ac": {
      "model_module": "@jupyter-widgets/controls",
      "model_module_version": "1.5.0",
      "model_name": "HBoxModel",
      "state": {
       "_dom_classes": [],
       "_model_module": "@jupyter-widgets/controls",
       "_model_module_version": "1.5.0",
       "_model_name": "HBoxModel",
       "_view_count": null,
       "_view_module": "@jupyter-widgets/controls",
       "_view_module_version": "1.5.0",
       "_view_name": "HBoxView",
       "box_style": "",
       "children": [
        "IPY_MODEL_0e1759b412f04b68b7dfa9685d977d03",
        "IPY_MODEL_cf71b6807c434d0ca9fd3ae70e45e01f",
        "IPY_MODEL_4cb27bc83e2d49af9128e94ccc755f48"
       ],
       "layout": "IPY_MODEL_f071f6469cba48938ac862ce8b683876"
      }
     },
     "2e93a60fec0a41a493834f0157343e1b": {
      "model_module": "@jupyter-widgets/controls",
      "model_module_version": "1.5.0",
      "model_name": "HTMLModel",
      "state": {
       "_dom_classes": [],
       "_model_module": "@jupyter-widgets/controls",
       "_model_module_version": "1.5.0",
       "_model_name": "HTMLModel",
       "_view_count": null,
       "_view_module": "@jupyter-widgets/controls",
       "_view_module_version": "1.5.0",
       "_view_name": "HTMLView",
       "description": "",
       "description_tooltip": null,
       "layout": "IPY_MODEL_d42d36339881428b9a8e1f19fd1caa5f",
       "placeholder": "​",
       "style": "IPY_MODEL_cd37a23e441846b5ab510473ffb8c36a",
       "value": " 1/1 [00:00&lt;00:00,  2.82it/s]"
      }
     },
     "300b9d743f2d4985aa8245a8d3619d3e": {
      "model_module": "@jupyter-widgets/base",
      "model_module_version": "1.2.0",
      "model_name": "LayoutModel",
      "state": {
       "_model_module": "@jupyter-widgets/base",
       "_model_module_version": "1.2.0",
       "_model_name": "LayoutModel",
       "_view_count": null,
       "_view_module": "@jupyter-widgets/base",
       "_view_module_version": "1.2.0",
       "_view_name": "LayoutView",
       "align_content": null,
       "align_items": null,
       "align_self": null,
       "border": null,
       "bottom": null,
       "display": null,
       "flex": null,
       "flex_flow": null,
       "grid_area": null,
       "grid_auto_columns": null,
       "grid_auto_flow": null,
       "grid_auto_rows": null,
       "grid_column": null,
       "grid_gap": null,
       "grid_row": null,
       "grid_template_areas": null,
       "grid_template_columns": null,
       "grid_template_rows": null,
       "height": null,
       "justify_content": null,
       "justify_items": null,
       "left": null,
       "margin": null,
       "max_height": null,
       "max_width": null,
       "min_height": null,
       "min_width": null,
       "object_fit": null,
       "object_position": null,
       "order": null,
       "overflow": null,
       "overflow_x": null,
       "overflow_y": null,
       "padding": null,
       "right": null,
       "top": null,
       "visibility": null,
       "width": null
      }
     },
     "303b9e483b784e2db6af67ac57c5017d": {
      "model_module": "@jupyter-widgets/base",
      "model_module_version": "1.2.0",
      "model_name": "LayoutModel",
      "state": {
       "_model_module": "@jupyter-widgets/base",
       "_model_module_version": "1.2.0",
       "_model_name": "LayoutModel",
       "_view_count": null,
       "_view_module": "@jupyter-widgets/base",
       "_view_module_version": "1.2.0",
       "_view_name": "LayoutView",
       "align_content": null,
       "align_items": null,
       "align_self": null,
       "border": null,
       "bottom": null,
       "display": null,
       "flex": null,
       "flex_flow": null,
       "grid_area": null,
       "grid_auto_columns": null,
       "grid_auto_flow": null,
       "grid_auto_rows": null,
       "grid_column": null,
       "grid_gap": null,
       "grid_row": null,
       "grid_template_areas": null,
       "grid_template_columns": null,
       "grid_template_rows": null,
       "height": null,
       "justify_content": null,
       "justify_items": null,
       "left": null,
       "margin": null,
       "max_height": null,
       "max_width": null,
       "min_height": null,
       "min_width": null,
       "object_fit": null,
       "object_position": null,
       "order": null,
       "overflow": null,
       "overflow_x": null,
       "overflow_y": null,
       "padding": null,
       "right": null,
       "top": null,
       "visibility": null,
       "width": null
      }
     },
     "31763a3f28cd4e83aeffcbccc2b69a00": {
      "model_module": "@jupyter-widgets/controls",
      "model_module_version": "1.5.0",
      "model_name": "FloatProgressModel",
      "state": {
       "_dom_classes": [],
       "_model_module": "@jupyter-widgets/controls",
       "_model_module_version": "1.5.0",
       "_model_name": "FloatProgressModel",
       "_view_count": null,
       "_view_module": "@jupyter-widgets/controls",
       "_view_module_version": "1.5.0",
       "_view_name": "ProgressView",
       "bar_style": "",
       "description": "",
       "description_tooltip": null,
       "layout": "IPY_MODEL_47cd81bfc2924bfa8c07bab260243476",
       "max": 1.0,
       "min": 0.0,
       "orientation": "horizontal",
       "style": "IPY_MODEL_631d31e158524fd89f63ca346321e54c",
       "value": 1.0
      }
     },
     "3375a6d088f94b4ea72093e506ae1c71": {
      "model_module": "@jupyter-widgets/controls",
      "model_module_version": "1.5.0",
      "model_name": "DescriptionStyleModel",
      "state": {
       "_model_module": "@jupyter-widgets/controls",
       "_model_module_version": "1.5.0",
       "_model_name": "DescriptionStyleModel",
       "_view_count": null,
       "_view_module": "@jupyter-widgets/base",
       "_view_module_version": "1.2.0",
       "_view_name": "StyleView",
       "description_width": ""
      }
     },
     "3ba186bdf65b46278439c6f1339a6154": {
      "model_module": "@jupyter-widgets/base",
      "model_module_version": "1.2.0",
      "model_name": "LayoutModel",
      "state": {
       "_model_module": "@jupyter-widgets/base",
       "_model_module_version": "1.2.0",
       "_model_name": "LayoutModel",
       "_view_count": null,
       "_view_module": "@jupyter-widgets/base",
       "_view_module_version": "1.2.0",
       "_view_name": "LayoutView",
       "align_content": null,
       "align_items": null,
       "align_self": null,
       "border": null,
       "bottom": null,
       "display": null,
       "flex": null,
       "flex_flow": null,
       "grid_area": null,
       "grid_auto_columns": null,
       "grid_auto_flow": null,
       "grid_auto_rows": null,
       "grid_column": null,
       "grid_gap": null,
       "grid_row": null,
       "grid_template_areas": null,
       "grid_template_columns": null,
       "grid_template_rows": null,
       "height": null,
       "justify_content": null,
       "justify_items": null,
       "left": null,
       "margin": null,
       "max_height": null,
       "max_width": null,
       "min_height": null,
       "min_width": null,
       "object_fit": null,
       "object_position": null,
       "order": null,
       "overflow": null,
       "overflow_x": null,
       "overflow_y": null,
       "padding": null,
       "right": null,
       "top": null,
       "visibility": null,
       "width": null
      }
     },
     "3e49d538b2f341d78538e6f416ad3fcb": {
      "model_module": "@jupyter-widgets/base",
      "model_module_version": "1.2.0",
      "model_name": "LayoutModel",
      "state": {
       "_model_module": "@jupyter-widgets/base",
       "_model_module_version": "1.2.0",
       "_model_name": "LayoutModel",
       "_view_count": null,
       "_view_module": "@jupyter-widgets/base",
       "_view_module_version": "1.2.0",
       "_view_name": "LayoutView",
       "align_content": null,
       "align_items": null,
       "align_self": null,
       "border": null,
       "bottom": null,
       "display": null,
       "flex": null,
       "flex_flow": null,
       "grid_area": null,
       "grid_auto_columns": null,
       "grid_auto_flow": null,
       "grid_auto_rows": null,
       "grid_column": null,
       "grid_gap": null,
       "grid_row": null,
       "grid_template_areas": null,
       "grid_template_columns": null,
       "grid_template_rows": null,
       "height": null,
       "justify_content": null,
       "justify_items": null,
       "left": null,
       "margin": null,
       "max_height": null,
       "max_width": null,
       "min_height": null,
       "min_width": null,
       "object_fit": null,
       "object_position": null,
       "order": null,
       "overflow": null,
       "overflow_x": null,
       "overflow_y": null,
       "padding": null,
       "right": null,
       "top": null,
       "visibility": null,
       "width": null
      }
     },
     "3f9886b16c5c47a28fceeeef93ea2f8b": {
      "model_module": "@jupyter-widgets/controls",
      "model_module_version": "1.5.0",
      "model_name": "HBoxModel",
      "state": {
       "_dom_classes": [],
       "_model_module": "@jupyter-widgets/controls",
       "_model_module_version": "1.5.0",
       "_model_name": "HBoxModel",
       "_view_count": null,
       "_view_module": "@jupyter-widgets/controls",
       "_view_module_version": "1.5.0",
       "_view_name": "HBoxView",
       "box_style": "",
       "children": [
        "IPY_MODEL_aa9fb3f6958a469285914b5de1d50731",
        "IPY_MODEL_e641dd44ec20462191b7f166dfa1641e",
        "IPY_MODEL_bd829b36b74b425fa4522a39f2730c89"
       ],
       "layout": "IPY_MODEL_0e586407fa30474f8b8727fb4ea429a4"
      }
     },
     "4459a99823ce41cf9d644216b0172c2d": {
      "model_module": "@jupyter-widgets/controls",
      "model_module_version": "1.5.0",
      "model_name": "ProgressStyleModel",
      "state": {
       "_model_module": "@jupyter-widgets/controls",
       "_model_module_version": "1.5.0",
       "_model_name": "ProgressStyleModel",
       "_view_count": null,
       "_view_module": "@jupyter-widgets/base",
       "_view_module_version": "1.2.0",
       "_view_name": "StyleView",
       "bar_color": null,
       "description_width": ""
      }
     },
     "47cd81bfc2924bfa8c07bab260243476": {
      "model_module": "@jupyter-widgets/base",
      "model_module_version": "1.2.0",
      "model_name": "LayoutModel",
      "state": {
       "_model_module": "@jupyter-widgets/base",
       "_model_module_version": "1.2.0",
       "_model_name": "LayoutModel",
       "_view_count": null,
       "_view_module": "@jupyter-widgets/base",
       "_view_module_version": "1.2.0",
       "_view_name": "LayoutView",
       "align_content": null,
       "align_items": null,
       "align_self": null,
       "border": null,
       "bottom": null,
       "display": null,
       "flex": null,
       "flex_flow": null,
       "grid_area": null,
       "grid_auto_columns": null,
       "grid_auto_flow": null,
       "grid_auto_rows": null,
       "grid_column": null,
       "grid_gap": null,
       "grid_row": null,
       "grid_template_areas": null,
       "grid_template_columns": null,
       "grid_template_rows": null,
       "height": null,
       "justify_content": null,
       "justify_items": null,
       "left": null,
       "margin": null,
       "max_height": null,
       "max_width": null,
       "min_height": null,
       "min_width": null,
       "object_fit": null,
       "object_position": null,
       "order": null,
       "overflow": null,
       "overflow_x": null,
       "overflow_y": null,
       "padding": null,
       "right": null,
       "top": null,
       "visibility": null,
       "width": null
      }
     },
     "481670e68bab441d95ef5b469d132bc0": {
      "model_module": "@jupyter-widgets/base",
      "model_module_version": "1.2.0",
      "model_name": "LayoutModel",
      "state": {
       "_model_module": "@jupyter-widgets/base",
       "_model_module_version": "1.2.0",
       "_model_name": "LayoutModel",
       "_view_count": null,
       "_view_module": "@jupyter-widgets/base",
       "_view_module_version": "1.2.0",
       "_view_name": "LayoutView",
       "align_content": null,
       "align_items": null,
       "align_self": null,
       "border": null,
       "bottom": null,
       "display": null,
       "flex": null,
       "flex_flow": null,
       "grid_area": null,
       "grid_auto_columns": null,
       "grid_auto_flow": null,
       "grid_auto_rows": null,
       "grid_column": null,
       "grid_gap": null,
       "grid_row": null,
       "grid_template_areas": null,
       "grid_template_columns": null,
       "grid_template_rows": null,
       "height": null,
       "justify_content": null,
       "justify_items": null,
       "left": null,
       "margin": null,
       "max_height": null,
       "max_width": null,
       "min_height": null,
       "min_width": null,
       "object_fit": null,
       "object_position": null,
       "order": null,
       "overflow": null,
       "overflow_x": null,
       "overflow_y": null,
       "padding": null,
       "right": null,
       "top": null,
       "visibility": null,
       "width": null
      }
     },
     "4cb27bc83e2d49af9128e94ccc755f48": {
      "model_module": "@jupyter-widgets/controls",
      "model_module_version": "1.5.0",
      "model_name": "HTMLModel",
      "state": {
       "_dom_classes": [],
       "_model_module": "@jupyter-widgets/controls",
       "_model_module_version": "1.5.0",
       "_model_name": "HTMLModel",
       "_view_count": null,
       "_view_module": "@jupyter-widgets/controls",
       "_view_module_version": "1.5.0",
       "_view_name": "HTMLView",
       "description": "",
       "description_tooltip": null,
       "layout": "IPY_MODEL_d78cdb8002a1455dbbb6fb70bfea7e9a",
       "placeholder": "​",
       "style": "IPY_MODEL_00f309ebac034c079dab5edabfe7ce9c",
       "value": " 1/1 [00:01&lt;00:00,  1.05s/it]"
      }
     },
     "4d88c071bb8541b99c91ae2e8cc5a88a": {
      "model_module": "@jupyter-widgets/base",
      "model_module_version": "1.2.0",
      "model_name": "LayoutModel",
      "state": {
       "_model_module": "@jupyter-widgets/base",
       "_model_module_version": "1.2.0",
       "_model_name": "LayoutModel",
       "_view_count": null,
       "_view_module": "@jupyter-widgets/base",
       "_view_module_version": "1.2.0",
       "_view_name": "LayoutView",
       "align_content": null,
       "align_items": null,
       "align_self": null,
       "border": null,
       "bottom": null,
       "display": null,
       "flex": null,
       "flex_flow": null,
       "grid_area": null,
       "grid_auto_columns": null,
       "grid_auto_flow": null,
       "grid_auto_rows": null,
       "grid_column": null,
       "grid_gap": null,
       "grid_row": null,
       "grid_template_areas": null,
       "grid_template_columns": null,
       "grid_template_rows": null,
       "height": null,
       "justify_content": null,
       "justify_items": null,
       "left": null,
       "margin": null,
       "max_height": null,
       "max_width": null,
       "min_height": null,
       "min_width": null,
       "object_fit": null,
       "object_position": null,
       "order": null,
       "overflow": null,
       "overflow_x": null,
       "overflow_y": null,
       "padding": null,
       "right": null,
       "top": null,
       "visibility": null,
       "width": null
      }
     },
     "4e1106fccb5942599342315ef6cbb733": {
      "model_module": "@jupyter-widgets/controls",
      "model_module_version": "1.5.0",
      "model_name": "DescriptionStyleModel",
      "state": {
       "_model_module": "@jupyter-widgets/controls",
       "_model_module_version": "1.5.0",
       "_model_name": "DescriptionStyleModel",
       "_view_count": null,
       "_view_module": "@jupyter-widgets/base",
       "_view_module_version": "1.2.0",
       "_view_name": "StyleView",
       "description_width": ""
      }
     },
     "5249e756e36042ce988f61f4d8ee4d4a": {
      "model_module": "@jupyter-widgets/controls",
      "model_module_version": "1.5.0",
      "model_name": "HTMLModel",
      "state": {
       "_dom_classes": [],
       "_model_module": "@jupyter-widgets/controls",
       "_model_module_version": "1.5.0",
       "_model_name": "HTMLModel",
       "_view_count": null,
       "_view_module": "@jupyter-widgets/controls",
       "_view_module_version": "1.5.0",
       "_view_name": "HTMLView",
       "description": "",
       "description_tooltip": null,
       "layout": "IPY_MODEL_4d88c071bb8541b99c91ae2e8cc5a88a",
       "placeholder": "​",
       "style": "IPY_MODEL_17d31c088ffd43539818e8ad6249cc57",
       "value": "100%"
      }
     },
     "562793b4193a4c04bd7f3500178fa0e2": {
      "model_module": "@jupyter-widgets/controls",
      "model_module_version": "1.5.0",
      "model_name": "HBoxModel",
      "state": {
       "_dom_classes": [],
       "_model_module": "@jupyter-widgets/controls",
       "_model_module_version": "1.5.0",
       "_model_name": "HBoxModel",
       "_view_count": null,
       "_view_module": "@jupyter-widgets/controls",
       "_view_module_version": "1.5.0",
       "_view_name": "HBoxView",
       "box_style": "",
       "children": [
        "IPY_MODEL_04ff00b047304f6f90a59bb6aabb6ca9",
        "IPY_MODEL_31763a3f28cd4e83aeffcbccc2b69a00",
        "IPY_MODEL_cc9ed28867db4406a189e731147ca192"
       ],
       "layout": "IPY_MODEL_9770f4de7dfb408189d3400cca503776"
      }
     },
     "5916ee689c4c415db16b8f988ab7f421": {
      "model_module": "@jupyter-widgets/controls",
      "model_module_version": "1.5.0",
      "model_name": "HBoxModel",
      "state": {
       "_dom_classes": [],
       "_model_module": "@jupyter-widgets/controls",
       "_model_module_version": "1.5.0",
       "_model_name": "HBoxModel",
       "_view_count": null,
       "_view_module": "@jupyter-widgets/controls",
       "_view_module_version": "1.5.0",
       "_view_name": "HBoxView",
       "box_style": "",
       "children": [
        "IPY_MODEL_5249e756e36042ce988f61f4d8ee4d4a",
        "IPY_MODEL_d7c5ed70e257408d80a6b33be5850db7",
        "IPY_MODEL_ffe41ee1149b4ad3ae614d11d5709676"
       ],
       "layout": "IPY_MODEL_0d913ebbe0f14d0cbdb3459bad994faa"
      }
     },
     "5a0be657919a44f5b32a12011a54a9c3": {
      "model_module": "@jupyter-widgets/base",
      "model_module_version": "1.2.0",
      "model_name": "LayoutModel",
      "state": {
       "_model_module": "@jupyter-widgets/base",
       "_model_module_version": "1.2.0",
       "_model_name": "LayoutModel",
       "_view_count": null,
       "_view_module": "@jupyter-widgets/base",
       "_view_module_version": "1.2.0",
       "_view_name": "LayoutView",
       "align_content": null,
       "align_items": null,
       "align_self": null,
       "border": null,
       "bottom": null,
       "display": null,
       "flex": null,
       "flex_flow": null,
       "grid_area": null,
       "grid_auto_columns": null,
       "grid_auto_flow": null,
       "grid_auto_rows": null,
       "grid_column": null,
       "grid_gap": null,
       "grid_row": null,
       "grid_template_areas": null,
       "grid_template_columns": null,
       "grid_template_rows": null,
       "height": null,
       "justify_content": null,
       "justify_items": null,
       "left": null,
       "margin": null,
       "max_height": null,
       "max_width": null,
       "min_height": null,
       "min_width": null,
       "object_fit": null,
       "object_position": null,
       "order": null,
       "overflow": null,
       "overflow_x": null,
       "overflow_y": null,
       "padding": null,
       "right": null,
       "top": null,
       "visibility": null,
       "width": null
      }
     },
     "5bccd5fe40ba435399a6505ef3558cf1": {
      "model_module": "@jupyter-widgets/base",
      "model_module_version": "1.2.0",
      "model_name": "LayoutModel",
      "state": {
       "_model_module": "@jupyter-widgets/base",
       "_model_module_version": "1.2.0",
       "_model_name": "LayoutModel",
       "_view_count": null,
       "_view_module": "@jupyter-widgets/base",
       "_view_module_version": "1.2.0",
       "_view_name": "LayoutView",
       "align_content": null,
       "align_items": null,
       "align_self": null,
       "border": null,
       "bottom": null,
       "display": null,
       "flex": null,
       "flex_flow": null,
       "grid_area": null,
       "grid_auto_columns": null,
       "grid_auto_flow": null,
       "grid_auto_rows": null,
       "grid_column": null,
       "grid_gap": null,
       "grid_row": null,
       "grid_template_areas": null,
       "grid_template_columns": null,
       "grid_template_rows": null,
       "height": null,
       "justify_content": null,
       "justify_items": null,
       "left": null,
       "margin": null,
       "max_height": null,
       "max_width": null,
       "min_height": null,
       "min_width": null,
       "object_fit": null,
       "object_position": null,
       "order": null,
       "overflow": null,
       "overflow_x": null,
       "overflow_y": null,
       "padding": null,
       "right": null,
       "top": null,
       "visibility": null,
       "width": null
      }
     },
     "5cab206ba6a8490a9d999b91cfb13d97": {
      "model_module": "@jupyter-widgets/controls",
      "model_module_version": "1.5.0",
      "model_name": "ProgressStyleModel",
      "state": {
       "_model_module": "@jupyter-widgets/controls",
       "_model_module_version": "1.5.0",
       "_model_name": "ProgressStyleModel",
       "_view_count": null,
       "_view_module": "@jupyter-widgets/base",
       "_view_module_version": "1.2.0",
       "_view_name": "StyleView",
       "bar_color": null,
       "description_width": ""
      }
     },
     "6014adaa29d447f18b8db32f8aea115e": {
      "model_module": "@jupyter-widgets/base",
      "model_module_version": "1.2.0",
      "model_name": "LayoutModel",
      "state": {
       "_model_module": "@jupyter-widgets/base",
       "_model_module_version": "1.2.0",
       "_model_name": "LayoutModel",
       "_view_count": null,
       "_view_module": "@jupyter-widgets/base",
       "_view_module_version": "1.2.0",
       "_view_name": "LayoutView",
       "align_content": null,
       "align_items": null,
       "align_self": null,
       "border": null,
       "bottom": null,
       "display": null,
       "flex": null,
       "flex_flow": null,
       "grid_area": null,
       "grid_auto_columns": null,
       "grid_auto_flow": null,
       "grid_auto_rows": null,
       "grid_column": null,
       "grid_gap": null,
       "grid_row": null,
       "grid_template_areas": null,
       "grid_template_columns": null,
       "grid_template_rows": null,
       "height": null,
       "justify_content": null,
       "justify_items": null,
       "left": null,
       "margin": null,
       "max_height": null,
       "max_width": null,
       "min_height": null,
       "min_width": null,
       "object_fit": null,
       "object_position": null,
       "order": null,
       "overflow": null,
       "overflow_x": null,
       "overflow_y": null,
       "padding": null,
       "right": null,
       "top": null,
       "visibility": null,
       "width": null
      }
     },
     "631d31e158524fd89f63ca346321e54c": {
      "model_module": "@jupyter-widgets/controls",
      "model_module_version": "1.5.0",
      "model_name": "ProgressStyleModel",
      "state": {
       "_model_module": "@jupyter-widgets/controls",
       "_model_module_version": "1.5.0",
       "_model_name": "ProgressStyleModel",
       "_view_count": null,
       "_view_module": "@jupyter-widgets/base",
       "_view_module_version": "1.2.0",
       "_view_name": "StyleView",
       "bar_color": null,
       "description_width": ""
      }
     },
     "65a5ecd6da91445da591957f818c67e3": {
      "model_module": "@jupyter-widgets/base",
      "model_module_version": "1.2.0",
      "model_name": "LayoutModel",
      "state": {
       "_model_module": "@jupyter-widgets/base",
       "_model_module_version": "1.2.0",
       "_model_name": "LayoutModel",
       "_view_count": null,
       "_view_module": "@jupyter-widgets/base",
       "_view_module_version": "1.2.0",
       "_view_name": "LayoutView",
       "align_content": null,
       "align_items": null,
       "align_self": null,
       "border": null,
       "bottom": null,
       "display": null,
       "flex": null,
       "flex_flow": null,
       "grid_area": null,
       "grid_auto_columns": null,
       "grid_auto_flow": null,
       "grid_auto_rows": null,
       "grid_column": null,
       "grid_gap": null,
       "grid_row": null,
       "grid_template_areas": null,
       "grid_template_columns": null,
       "grid_template_rows": null,
       "height": null,
       "justify_content": null,
       "justify_items": null,
       "left": null,
       "margin": null,
       "max_height": null,
       "max_width": null,
       "min_height": null,
       "min_width": null,
       "object_fit": null,
       "object_position": null,
       "order": null,
       "overflow": null,
       "overflow_x": null,
       "overflow_y": null,
       "padding": null,
       "right": null,
       "top": null,
       "visibility": null,
       "width": null
      }
     },
     "68ed732e1fcf4a748d9381f09f7eecda": {
      "model_module": "@jupyter-widgets/controls",
      "model_module_version": "1.5.0",
      "model_name": "HTMLModel",
      "state": {
       "_dom_classes": [],
       "_model_module": "@jupyter-widgets/controls",
       "_model_module_version": "1.5.0",
       "_model_name": "HTMLModel",
       "_view_count": null,
       "_view_module": "@jupyter-widgets/controls",
       "_view_module_version": "1.5.0",
       "_view_name": "HTMLView",
       "description": "",
       "description_tooltip": null,
       "layout": "IPY_MODEL_d504d61498be43a59100abbb1667f75f",
       "placeholder": "​",
       "style": "IPY_MODEL_d26ee3bd177d4b4a9d44354a9539c4f9",
       "value": " 5/5 [00:03&lt;00:00,  1.53it/s]"
      }
     },
     "6a442395d49f4c55a8759d1c98993098": {
      "model_module": "@jupyter-widgets/controls",
      "model_module_version": "1.5.0",
      "model_name": "HTMLModel",
      "state": {
       "_dom_classes": [],
       "_model_module": "@jupyter-widgets/controls",
       "_model_module_version": "1.5.0",
       "_model_name": "HTMLModel",
       "_view_count": null,
       "_view_module": "@jupyter-widgets/controls",
       "_view_module_version": "1.5.0",
       "_view_name": "HTMLView",
       "description": "",
       "description_tooltip": null,
       "layout": "IPY_MODEL_8059c90dbec342938293ce0d3a75c03e",
       "placeholder": "​",
       "style": "IPY_MODEL_8d251c36ca5d443bbd32a6d7bc28dc03",
       "value": " 1/1 [00:08&lt;00:00,  8.90s/it]"
      }
     },
     "6bafce40089940f886feb0c83993c16f": {
      "model_module": "@jupyter-widgets/controls",
      "model_module_version": "1.5.0",
      "model_name": "DescriptionStyleModel",
      "state": {
       "_model_module": "@jupyter-widgets/controls",
       "_model_module_version": "1.5.0",
       "_model_name": "DescriptionStyleModel",
       "_view_count": null,
       "_view_module": "@jupyter-widgets/base",
       "_view_module_version": "1.2.0",
       "_view_name": "StyleView",
       "description_width": ""
      }
     },
     "6f83793d430944c583e5f34d80f74b5f": {
      "model_module": "@jupyter-widgets/controls",
      "model_module_version": "1.5.0",
      "model_name": "FloatProgressModel",
      "state": {
       "_dom_classes": [],
       "_model_module": "@jupyter-widgets/controls",
       "_model_module_version": "1.5.0",
       "_model_name": "FloatProgressModel",
       "_view_count": null,
       "_view_module": "@jupyter-widgets/controls",
       "_view_module_version": "1.5.0",
       "_view_name": "ProgressView",
       "bar_style": "success",
       "description": "",
       "description_tooltip": null,
       "layout": "IPY_MODEL_efadfa3dce8c4a0e9d2bc05bad12022e",
       "max": 5.0,
       "min": 0.0,
       "orientation": "horizontal",
       "style": "IPY_MODEL_eff3b90f784c4d2a8d8d775242447e94",
       "value": 5.0
      }
     },
     "701a9ac14cc849a39b65eee5ccf93df4": {
      "model_module": "@jupyter-widgets/base",
      "model_module_version": "1.2.0",
      "model_name": "LayoutModel",
      "state": {
       "_model_module": "@jupyter-widgets/base",
       "_model_module_version": "1.2.0",
       "_model_name": "LayoutModel",
       "_view_count": null,
       "_view_module": "@jupyter-widgets/base",
       "_view_module_version": "1.2.0",
       "_view_name": "LayoutView",
       "align_content": null,
       "align_items": null,
       "align_self": null,
       "border": null,
       "bottom": null,
       "display": null,
       "flex": null,
       "flex_flow": null,
       "grid_area": null,
       "grid_auto_columns": null,
       "grid_auto_flow": null,
       "grid_auto_rows": null,
       "grid_column": null,
       "grid_gap": null,
       "grid_row": null,
       "grid_template_areas": null,
       "grid_template_columns": null,
       "grid_template_rows": null,
       "height": null,
       "justify_content": null,
       "justify_items": null,
       "left": null,
       "margin": null,
       "max_height": null,
       "max_width": null,
       "min_height": null,
       "min_width": null,
       "object_fit": null,
       "object_position": null,
       "order": null,
       "overflow": null,
       "overflow_x": null,
       "overflow_y": null,
       "padding": null,
       "right": null,
       "top": null,
       "visibility": "hidden",
       "width": null
      }
     },
     "70dc3e62f80e450f972c8fcb90320e3e": {
      "model_module": "@jupyter-widgets/base",
      "model_module_version": "1.2.0",
      "model_name": "LayoutModel",
      "state": {
       "_model_module": "@jupyter-widgets/base",
       "_model_module_version": "1.2.0",
       "_model_name": "LayoutModel",
       "_view_count": null,
       "_view_module": "@jupyter-widgets/base",
       "_view_module_version": "1.2.0",
       "_view_name": "LayoutView",
       "align_content": null,
       "align_items": null,
       "align_self": null,
       "border": null,
       "bottom": null,
       "display": null,
       "flex": null,
       "flex_flow": null,
       "grid_area": null,
       "grid_auto_columns": null,
       "grid_auto_flow": null,
       "grid_auto_rows": null,
       "grid_column": null,
       "grid_gap": null,
       "grid_row": null,
       "grid_template_areas": null,
       "grid_template_columns": null,
       "grid_template_rows": null,
       "height": null,
       "justify_content": null,
       "justify_items": null,
       "left": null,
       "margin": null,
       "max_height": null,
       "max_width": null,
       "min_height": null,
       "min_width": null,
       "object_fit": null,
       "object_position": null,
       "order": null,
       "overflow": null,
       "overflow_x": null,
       "overflow_y": null,
       "padding": null,
       "right": null,
       "top": null,
       "visibility": null,
       "width": null
      }
     },
     "755bae8677204414993934083b8c7339": {
      "model_module": "@jupyter-widgets/controls",
      "model_module_version": "1.5.0",
      "model_name": "DescriptionStyleModel",
      "state": {
       "_model_module": "@jupyter-widgets/controls",
       "_model_module_version": "1.5.0",
       "_model_name": "DescriptionStyleModel",
       "_view_count": null,
       "_view_module": "@jupyter-widgets/base",
       "_view_module_version": "1.2.0",
       "_view_name": "StyleView",
       "description_width": ""
      }
     },
     "774754708aff44229f87c1c721d5784f": {
      "model_module": "@jupyter-widgets/controls",
      "model_module_version": "1.5.0",
      "model_name": "ProgressStyleModel",
      "state": {
       "_model_module": "@jupyter-widgets/controls",
       "_model_module_version": "1.5.0",
       "_model_name": "ProgressStyleModel",
       "_view_count": null,
       "_view_module": "@jupyter-widgets/base",
       "_view_module_version": "1.2.0",
       "_view_name": "StyleView",
       "bar_color": null,
       "description_width": ""
      }
     },
     "8059c90dbec342938293ce0d3a75c03e": {
      "model_module": "@jupyter-widgets/base",
      "model_module_version": "1.2.0",
      "model_name": "LayoutModel",
      "state": {
       "_model_module": "@jupyter-widgets/base",
       "_model_module_version": "1.2.0",
       "_model_name": "LayoutModel",
       "_view_count": null,
       "_view_module": "@jupyter-widgets/base",
       "_view_module_version": "1.2.0",
       "_view_name": "LayoutView",
       "align_content": null,
       "align_items": null,
       "align_self": null,
       "border": null,
       "bottom": null,
       "display": null,
       "flex": null,
       "flex_flow": null,
       "grid_area": null,
       "grid_auto_columns": null,
       "grid_auto_flow": null,
       "grid_auto_rows": null,
       "grid_column": null,
       "grid_gap": null,
       "grid_row": null,
       "grid_template_areas": null,
       "grid_template_columns": null,
       "grid_template_rows": null,
       "height": null,
       "justify_content": null,
       "justify_items": null,
       "left": null,
       "margin": null,
       "max_height": null,
       "max_width": null,
       "min_height": null,
       "min_width": null,
       "object_fit": null,
       "object_position": null,
       "order": null,
       "overflow": null,
       "overflow_x": null,
       "overflow_y": null,
       "padding": null,
       "right": null,
       "top": null,
       "visibility": null,
       "width": null
      }
     },
     "869d672bdbaa47f48444e7386a805555": {
      "model_module": "@jupyter-widgets/base",
      "model_module_version": "1.2.0",
      "model_name": "LayoutModel",
      "state": {
       "_model_module": "@jupyter-widgets/base",
       "_model_module_version": "1.2.0",
       "_model_name": "LayoutModel",
       "_view_count": null,
       "_view_module": "@jupyter-widgets/base",
       "_view_module_version": "1.2.0",
       "_view_name": "LayoutView",
       "align_content": null,
       "align_items": null,
       "align_self": null,
       "border": null,
       "bottom": null,
       "display": null,
       "flex": null,
       "flex_flow": null,
       "grid_area": null,
       "grid_auto_columns": null,
       "grid_auto_flow": null,
       "grid_auto_rows": null,
       "grid_column": null,
       "grid_gap": null,
       "grid_row": null,
       "grid_template_areas": null,
       "grid_template_columns": null,
       "grid_template_rows": null,
       "height": null,
       "justify_content": null,
       "justify_items": null,
       "left": null,
       "margin": null,
       "max_height": null,
       "max_width": null,
       "min_height": null,
       "min_width": null,
       "object_fit": null,
       "object_position": null,
       "order": null,
       "overflow": null,
       "overflow_x": null,
       "overflow_y": null,
       "padding": null,
       "right": null,
       "top": null,
       "visibility": null,
       "width": null
      }
     },
     "8c49d5b7ddff4248a2ec00f2e25e3ad1": {
      "model_module": "@jupyter-widgets/controls",
      "model_module_version": "1.5.0",
      "model_name": "DescriptionStyleModel",
      "state": {
       "_model_module": "@jupyter-widgets/controls",
       "_model_module_version": "1.5.0",
       "_model_name": "DescriptionStyleModel",
       "_view_count": null,
       "_view_module": "@jupyter-widgets/base",
       "_view_module_version": "1.2.0",
       "_view_name": "StyleView",
       "description_width": ""
      }
     },
     "8d251c36ca5d443bbd32a6d7bc28dc03": {
      "model_module": "@jupyter-widgets/controls",
      "model_module_version": "1.5.0",
      "model_name": "DescriptionStyleModel",
      "state": {
       "_model_module": "@jupyter-widgets/controls",
       "_model_module_version": "1.5.0",
       "_model_name": "DescriptionStyleModel",
       "_view_count": null,
       "_view_module": "@jupyter-widgets/base",
       "_view_module_version": "1.2.0",
       "_view_name": "StyleView",
       "description_width": ""
      }
     },
     "8d753ae693e64e8cba8f10eadc10026e": {
      "model_module": "@jupyter-widgets/controls",
      "model_module_version": "1.5.0",
      "model_name": "HBoxModel",
      "state": {
       "_dom_classes": [],
       "_model_module": "@jupyter-widgets/controls",
       "_model_module_version": "1.5.0",
       "_model_name": "HBoxModel",
       "_view_count": null,
       "_view_module": "@jupyter-widgets/controls",
       "_view_module_version": "1.5.0",
       "_view_name": "HBoxView",
       "box_style": "",
       "children": [
        "IPY_MODEL_12b95b6409ae4153a42fcac1180d119a",
        "IPY_MODEL_9e75cbb6064949d09612b5da5cbd948b",
        "IPY_MODEL_6a442395d49f4c55a8759d1c98993098"
       ],
       "layout": "IPY_MODEL_0b8e488ce1a3445b9292572c34ac4229"
      }
     },
     "92c5242ad96c4428a7c5b749968da01f": {
      "model_module": "@jupyter-widgets/controls",
      "model_module_version": "1.5.0",
      "model_name": "DescriptionStyleModel",
      "state": {
       "_model_module": "@jupyter-widgets/controls",
       "_model_module_version": "1.5.0",
       "_model_name": "DescriptionStyleModel",
       "_view_count": null,
       "_view_module": "@jupyter-widgets/base",
       "_view_module_version": "1.2.0",
       "_view_name": "StyleView",
       "description_width": ""
      }
     },
     "9336ba179e8c40aeafcb95189e899946": {
      "model_module": "@jupyter-widgets/controls",
      "model_module_version": "1.5.0",
      "model_name": "HTMLModel",
      "state": {
       "_dom_classes": [],
       "_model_module": "@jupyter-widgets/controls",
       "_model_module_version": "1.5.0",
       "_model_name": "HTMLModel",
       "_view_count": null,
       "_view_module": "@jupyter-widgets/controls",
       "_view_module_version": "1.5.0",
       "_view_name": "HTMLView",
       "description": "",
       "description_tooltip": null,
       "layout": "IPY_MODEL_6014adaa29d447f18b8db32f8aea115e",
       "placeholder": "​",
       "style": "IPY_MODEL_4e1106fccb5942599342315ef6cbb733",
       "value": " 1/1 [00:00&lt;00:00,  2.77it/s]"
      }
     },
     "9770f4de7dfb408189d3400cca503776": {
      "model_module": "@jupyter-widgets/base",
      "model_module_version": "1.2.0",
      "model_name": "LayoutModel",
      "state": {
       "_model_module": "@jupyter-widgets/base",
       "_model_module_version": "1.2.0",
       "_model_name": "LayoutModel",
       "_view_count": null,
       "_view_module": "@jupyter-widgets/base",
       "_view_module_version": "1.2.0",
       "_view_name": "LayoutView",
       "align_content": null,
       "align_items": null,
       "align_self": null,
       "border": null,
       "bottom": null,
       "display": null,
       "flex": null,
       "flex_flow": null,
       "grid_area": null,
       "grid_auto_columns": null,
       "grid_auto_flow": null,
       "grid_auto_rows": null,
       "grid_column": null,
       "grid_gap": null,
       "grid_row": null,
       "grid_template_areas": null,
       "grid_template_columns": null,
       "grid_template_rows": null,
       "height": null,
       "justify_content": null,
       "justify_items": null,
       "left": null,
       "margin": null,
       "max_height": null,
       "max_width": null,
       "min_height": null,
       "min_width": null,
       "object_fit": null,
       "object_position": null,
       "order": null,
       "overflow": null,
       "overflow_x": null,
       "overflow_y": null,
       "padding": null,
       "right": null,
       "top": null,
       "visibility": "hidden",
       "width": null
      }
     },
     "9a275c73db7549c1ac6bfdb8754a2114": {
      "model_module": "@jupyter-widgets/controls",
      "model_module_version": "1.5.0",
      "model_name": "FloatProgressModel",
      "state": {
       "_dom_classes": [],
       "_model_module": "@jupyter-widgets/controls",
       "_model_module_version": "1.5.0",
       "_model_name": "FloatProgressModel",
       "_view_count": null,
       "_view_module": "@jupyter-widgets/controls",
       "_view_module_version": "1.5.0",
       "_view_name": "ProgressView",
       "bar_style": "",
       "description": "",
       "description_tooltip": null,
       "layout": "IPY_MODEL_300b9d743f2d4985aa8245a8d3619d3e",
       "max": 1.0,
       "min": 0.0,
       "orientation": "horizontal",
       "style": "IPY_MODEL_e45926dac27b47eb9e0b1e29163af23e",
       "value": 1.0
      }
     },
     "9e75cbb6064949d09612b5da5cbd948b": {
      "model_module": "@jupyter-widgets/controls",
      "model_module_version": "1.5.0",
      "model_name": "FloatProgressModel",
      "state": {
       "_dom_classes": [],
       "_model_module": "@jupyter-widgets/controls",
       "_model_module_version": "1.5.0",
       "_model_name": "FloatProgressModel",
       "_view_count": null,
       "_view_module": "@jupyter-widgets/controls",
       "_view_module_version": "1.5.0",
       "_view_name": "ProgressView",
       "bar_style": "",
       "description": "",
       "description_tooltip": null,
       "layout": "IPY_MODEL_a8df9b6238b44f0186db10d2b3bb866d",
       "max": 1.0,
       "min": 0.0,
       "orientation": "horizontal",
       "style": "IPY_MODEL_4459a99823ce41cf9d644216b0172c2d",
       "value": 1.0
      }
     },
     "a19920efbac04ebdb56c0c3251188202": {
      "model_module": "@jupyter-widgets/controls",
      "model_module_version": "1.5.0",
      "model_name": "HTMLModel",
      "state": {
       "_dom_classes": [],
       "_model_module": "@jupyter-widgets/controls",
       "_model_module_version": "1.5.0",
       "_model_name": "HTMLModel",
       "_view_count": null,
       "_view_module": "@jupyter-widgets/controls",
       "_view_module_version": "1.5.0",
       "_view_name": "HTMLView",
       "description": "",
       "description_tooltip": null,
       "layout": "IPY_MODEL_70dc3e62f80e450f972c8fcb90320e3e",
       "placeholder": "​",
       "style": "IPY_MODEL_6bafce40089940f886feb0c83993c16f",
       "value": "100%"
      }
     },
     "a5744c4fcf6442daa53f8fcdfdda286e": {
      "model_module": "@jupyter-widgets/base",
      "model_module_version": "1.2.0",
      "model_name": "LayoutModel",
      "state": {
       "_model_module": "@jupyter-widgets/base",
       "_model_module_version": "1.2.0",
       "_model_name": "LayoutModel",
       "_view_count": null,
       "_view_module": "@jupyter-widgets/base",
       "_view_module_version": "1.2.0",
       "_view_name": "LayoutView",
       "align_content": null,
       "align_items": null,
       "align_self": null,
       "border": null,
       "bottom": null,
       "display": null,
       "flex": null,
       "flex_flow": null,
       "grid_area": null,
       "grid_auto_columns": null,
       "grid_auto_flow": null,
       "grid_auto_rows": null,
       "grid_column": null,
       "grid_gap": null,
       "grid_row": null,
       "grid_template_areas": null,
       "grid_template_columns": null,
       "grid_template_rows": null,
       "height": null,
       "justify_content": null,
       "justify_items": null,
       "left": null,
       "margin": null,
       "max_height": null,
       "max_width": null,
       "min_height": null,
       "min_width": null,
       "object_fit": null,
       "object_position": null,
       "order": null,
       "overflow": null,
       "overflow_x": null,
       "overflow_y": null,
       "padding": null,
       "right": null,
       "top": null,
       "visibility": null,
       "width": null
      }
     },
     "a8df9b6238b44f0186db10d2b3bb866d": {
      "model_module": "@jupyter-widgets/base",
      "model_module_version": "1.2.0",
      "model_name": "LayoutModel",
      "state": {
       "_model_module": "@jupyter-widgets/base",
       "_model_module_version": "1.2.0",
       "_model_name": "LayoutModel",
       "_view_count": null,
       "_view_module": "@jupyter-widgets/base",
       "_view_module_version": "1.2.0",
       "_view_name": "LayoutView",
       "align_content": null,
       "align_items": null,
       "align_self": null,
       "border": null,
       "bottom": null,
       "display": null,
       "flex": null,
       "flex_flow": null,
       "grid_area": null,
       "grid_auto_columns": null,
       "grid_auto_flow": null,
       "grid_auto_rows": null,
       "grid_column": null,
       "grid_gap": null,
       "grid_row": null,
       "grid_template_areas": null,
       "grid_template_columns": null,
       "grid_template_rows": null,
       "height": null,
       "justify_content": null,
       "justify_items": null,
       "left": null,
       "margin": null,
       "max_height": null,
       "max_width": null,
       "min_height": null,
       "min_width": null,
       "object_fit": null,
       "object_position": null,
       "order": null,
       "overflow": null,
       "overflow_x": null,
       "overflow_y": null,
       "padding": null,
       "right": null,
       "top": null,
       "visibility": null,
       "width": null
      }
     },
     "a95e2bf391604a9892bdae9e3fdcc9a8": {
      "model_module": "@jupyter-widgets/controls",
      "model_module_version": "1.5.0",
      "model_name": "DescriptionStyleModel",
      "state": {
       "_model_module": "@jupyter-widgets/controls",
       "_model_module_version": "1.5.0",
       "_model_name": "DescriptionStyleModel",
       "_view_count": null,
       "_view_module": "@jupyter-widgets/base",
       "_view_module_version": "1.2.0",
       "_view_name": "StyleView",
       "description_width": ""
      }
     },
     "a96e3bc86a0145fc94cbaa93b747db9e": {
      "model_module": "@jupyter-widgets/controls",
      "model_module_version": "1.5.0",
      "model_name": "DescriptionStyleModel",
      "state": {
       "_model_module": "@jupyter-widgets/controls",
       "_model_module_version": "1.5.0",
       "_model_name": "DescriptionStyleModel",
       "_view_count": null,
       "_view_module": "@jupyter-widgets/base",
       "_view_module_version": "1.2.0",
       "_view_name": "StyleView",
       "description_width": ""
      }
     },
     "aa9fb3f6958a469285914b5de1d50731": {
      "model_module": "@jupyter-widgets/controls",
      "model_module_version": "1.5.0",
      "model_name": "HTMLModel",
      "state": {
       "_dom_classes": [],
       "_model_module": "@jupyter-widgets/controls",
       "_model_module_version": "1.5.0",
       "_model_name": "HTMLModel",
       "_view_count": null,
       "_view_module": "@jupyter-widgets/controls",
       "_view_module_version": "1.5.0",
       "_view_name": "HTMLView",
       "description": "",
       "description_tooltip": null,
       "layout": "IPY_MODEL_088e6ec66386475ca3ccb5a3e575416f",
       "placeholder": "​",
       "style": "IPY_MODEL_8c49d5b7ddff4248a2ec00f2e25e3ad1",
       "value": "100%"
      }
     },
     "ac7595c9c16a4b789060778a5f33fdef": {
      "model_module": "@jupyter-widgets/base",
      "model_module_version": "1.2.0",
      "model_name": "LayoutModel",
      "state": {
       "_model_module": "@jupyter-widgets/base",
       "_model_module_version": "1.2.0",
       "_model_name": "LayoutModel",
       "_view_count": null,
       "_view_module": "@jupyter-widgets/base",
       "_view_module_version": "1.2.0",
       "_view_name": "LayoutView",
       "align_content": null,
       "align_items": null,
       "align_self": null,
       "border": null,
       "bottom": null,
       "display": null,
       "flex": null,
       "flex_flow": null,
       "grid_area": null,
       "grid_auto_columns": null,
       "grid_auto_flow": null,
       "grid_auto_rows": null,
       "grid_column": null,
       "grid_gap": null,
       "grid_row": null,
       "grid_template_areas": null,
       "grid_template_columns": null,
       "grid_template_rows": null,
       "height": null,
       "justify_content": null,
       "justify_items": null,
       "left": null,
       "margin": null,
       "max_height": null,
       "max_width": null,
       "min_height": null,
       "min_width": null,
       "object_fit": null,
       "object_position": null,
       "order": null,
       "overflow": null,
       "overflow_x": null,
       "overflow_y": null,
       "padding": null,
       "right": null,
       "top": null,
       "visibility": null,
       "width": null
      }
     },
     "b10920b012b84a619e4a5f434e8ab18e": {
      "model_module": "@jupyter-widgets/controls",
      "model_module_version": "1.5.0",
      "model_name": "DescriptionStyleModel",
      "state": {
       "_model_module": "@jupyter-widgets/controls",
       "_model_module_version": "1.5.0",
       "_model_name": "DescriptionStyleModel",
       "_view_count": null,
       "_view_module": "@jupyter-widgets/base",
       "_view_module_version": "1.2.0",
       "_view_name": "StyleView",
       "description_width": ""
      }
     },
     "b17009819e5941ef86089d8b6fa81170": {
      "model_module": "@jupyter-widgets/controls",
      "model_module_version": "1.5.0",
      "model_name": "HTMLModel",
      "state": {
       "_dom_classes": [],
       "_model_module": "@jupyter-widgets/controls",
       "_model_module_version": "1.5.0",
       "_model_name": "HTMLModel",
       "_view_count": null,
       "_view_module": "@jupyter-widgets/controls",
       "_view_module_version": "1.5.0",
       "_view_name": "HTMLView",
       "description": "",
       "description_tooltip": null,
       "layout": "IPY_MODEL_5a0be657919a44f5b32a12011a54a9c3",
       "placeholder": "​",
       "style": "IPY_MODEL_d09e35bcf6ee46e7be93bea78cedb12e",
       "value": "100%"
      }
     },
     "b5d9584cd5314cae8e406b06f25ef3a6": {
      "model_module": "@jupyter-widgets/base",
      "model_module_version": "1.2.0",
      "model_name": "LayoutModel",
      "state": {
       "_model_module": "@jupyter-widgets/base",
       "_model_module_version": "1.2.0",
       "_model_name": "LayoutModel",
       "_view_count": null,
       "_view_module": "@jupyter-widgets/base",
       "_view_module_version": "1.2.0",
       "_view_name": "LayoutView",
       "align_content": null,
       "align_items": null,
       "align_self": null,
       "border": null,
       "bottom": null,
       "display": null,
       "flex": null,
       "flex_flow": null,
       "grid_area": null,
       "grid_auto_columns": null,
       "grid_auto_flow": null,
       "grid_auto_rows": null,
       "grid_column": null,
       "grid_gap": null,
       "grid_row": null,
       "grid_template_areas": null,
       "grid_template_columns": null,
       "grid_template_rows": null,
       "height": null,
       "justify_content": null,
       "justify_items": null,
       "left": null,
       "margin": null,
       "max_height": null,
       "max_width": null,
       "min_height": null,
       "min_width": null,
       "object_fit": null,
       "object_position": null,
       "order": null,
       "overflow": null,
       "overflow_x": null,
       "overflow_y": null,
       "padding": null,
       "right": null,
       "top": null,
       "visibility": null,
       "width": null
      }
     },
     "b7e228cd55ec4f2a8800136a24746de2": {
      "model_module": "@jupyter-widgets/controls",
      "model_module_version": "1.5.0",
      "model_name": "DescriptionStyleModel",
      "state": {
       "_model_module": "@jupyter-widgets/controls",
       "_model_module_version": "1.5.0",
       "_model_name": "DescriptionStyleModel",
       "_view_count": null,
       "_view_module": "@jupyter-widgets/base",
       "_view_module_version": "1.2.0",
       "_view_name": "StyleView",
       "description_width": ""
      }
     },
     "bd829b36b74b425fa4522a39f2730c89": {
      "model_module": "@jupyter-widgets/controls",
      "model_module_version": "1.5.0",
      "model_name": "HTMLModel",
      "state": {
       "_dom_classes": [],
       "_model_module": "@jupyter-widgets/controls",
       "_model_module_version": "1.5.0",
       "_model_name": "HTMLModel",
       "_view_count": null,
       "_view_module": "@jupyter-widgets/controls",
       "_view_module_version": "1.5.0",
       "_view_name": "HTMLView",
       "description": "",
       "description_tooltip": null,
       "layout": "IPY_MODEL_b5d9584cd5314cae8e406b06f25ef3a6",
       "placeholder": "​",
       "style": "IPY_MODEL_755bae8677204414993934083b8c7339",
       "value": " 7/7 [00:07&lt;00:00,  1.49it/s]"
      }
     },
     "be53b0caed0f4b07ac4d0c571b83199b": {
      "model_module": "@jupyter-widgets/controls",
      "model_module_version": "1.5.0",
      "model_name": "FloatProgressModel",
      "state": {
       "_dom_classes": [],
       "_model_module": "@jupyter-widgets/controls",
       "_model_module_version": "1.5.0",
       "_model_name": "FloatProgressModel",
       "_view_count": null,
       "_view_module": "@jupyter-widgets/controls",
       "_view_module_version": "1.5.0",
       "_view_name": "ProgressView",
       "bar_style": "success",
       "description": "",
       "description_tooltip": null,
       "layout": "IPY_MODEL_fc9bbb4dd41842408d2e8cc160dbcfd9",
       "max": 5.0,
       "min": 0.0,
       "orientation": "horizontal",
       "style": "IPY_MODEL_020f561eabae4fe8b1e71b894737ca78",
       "value": 5.0
      }
     },
     "c15386c64a2949709e7405e98576ad22": {
      "model_module": "@jupyter-widgets/controls",
      "model_module_version": "1.5.0",
      "model_name": "HTMLModel",
      "state": {
       "_dom_classes": [],
       "_model_module": "@jupyter-widgets/controls",
       "_model_module_version": "1.5.0",
       "_model_name": "HTMLModel",
       "_view_count": null,
       "_view_module": "@jupyter-widgets/controls",
       "_view_module_version": "1.5.0",
       "_view_name": "HTMLView",
       "description": "",
       "description_tooltip": null,
       "layout": "IPY_MODEL_15ecb3c38dab47d4971c98729b963bea",
       "placeholder": "​",
       "style": "IPY_MODEL_b7e228cd55ec4f2a8800136a24746de2",
       "value": "100%"
      }
     },
     "c2850179bc264ea2a962a1c88006595f": {
      "model_module": "@jupyter-widgets/controls",
      "model_module_version": "1.5.0",
      "model_name": "HBoxModel",
      "state": {
       "_dom_classes": [],
       "_model_module": "@jupyter-widgets/controls",
       "_model_module_version": "1.5.0",
       "_model_name": "HBoxModel",
       "_view_count": null,
       "_view_module": "@jupyter-widgets/controls",
       "_view_module_version": "1.5.0",
       "_view_name": "HBoxView",
       "box_style": "",
       "children": [
        "IPY_MODEL_a19920efbac04ebdb56c0c3251188202",
        "IPY_MODEL_be53b0caed0f4b07ac4d0c571b83199b",
        "IPY_MODEL_68ed732e1fcf4a748d9381f09f7eecda"
       ],
       "layout": "IPY_MODEL_c772731cabdf434899b6d64a85dc6447"
      }
     },
     "c60cfc72dd7547cbbecc7bf0a2da28d9": {
      "model_module": "@jupyter-widgets/controls",
      "model_module_version": "1.5.0",
      "model_name": "DescriptionStyleModel",
      "state": {
       "_model_module": "@jupyter-widgets/controls",
       "_model_module_version": "1.5.0",
       "_model_name": "DescriptionStyleModel",
       "_view_count": null,
       "_view_module": "@jupyter-widgets/base",
       "_view_module_version": "1.2.0",
       "_view_name": "StyleView",
       "description_width": ""
      }
     },
     "c772731cabdf434899b6d64a85dc6447": {
      "model_module": "@jupyter-widgets/base",
      "model_module_version": "1.2.0",
      "model_name": "LayoutModel",
      "state": {
       "_model_module": "@jupyter-widgets/base",
       "_model_module_version": "1.2.0",
       "_model_name": "LayoutModel",
       "_view_count": null,
       "_view_module": "@jupyter-widgets/base",
       "_view_module_version": "1.2.0",
       "_view_name": "LayoutView",
       "align_content": null,
       "align_items": null,
       "align_self": null,
       "border": null,
       "bottom": null,
       "display": null,
       "flex": null,
       "flex_flow": null,
       "grid_area": null,
       "grid_auto_columns": null,
       "grid_auto_flow": null,
       "grid_auto_rows": null,
       "grid_column": null,
       "grid_gap": null,
       "grid_row": null,
       "grid_template_areas": null,
       "grid_template_columns": null,
       "grid_template_rows": null,
       "height": null,
       "justify_content": null,
       "justify_items": null,
       "left": null,
       "margin": null,
       "max_height": null,
       "max_width": null,
       "min_height": null,
       "min_width": null,
       "object_fit": null,
       "object_position": null,
       "order": null,
       "overflow": null,
       "overflow_x": null,
       "overflow_y": null,
       "padding": null,
       "right": null,
       "top": null,
       "visibility": null,
       "width": null
      }
     },
     "c83a6c7ea76e4a669f5ea6e75da3e636": {
      "model_module": "@jupyter-widgets/base",
      "model_module_version": "1.2.0",
      "model_name": "LayoutModel",
      "state": {
       "_model_module": "@jupyter-widgets/base",
       "_model_module_version": "1.2.0",
       "_model_name": "LayoutModel",
       "_view_count": null,
       "_view_module": "@jupyter-widgets/base",
       "_view_module_version": "1.2.0",
       "_view_name": "LayoutView",
       "align_content": null,
       "align_items": null,
       "align_self": null,
       "border": null,
       "bottom": null,
       "display": null,
       "flex": null,
       "flex_flow": null,
       "grid_area": null,
       "grid_auto_columns": null,
       "grid_auto_flow": null,
       "grid_auto_rows": null,
       "grid_column": null,
       "grid_gap": null,
       "grid_row": null,
       "grid_template_areas": null,
       "grid_template_columns": null,
       "grid_template_rows": null,
       "height": null,
       "justify_content": null,
       "justify_items": null,
       "left": null,
       "margin": null,
       "max_height": null,
       "max_width": null,
       "min_height": null,
       "min_width": null,
       "object_fit": null,
       "object_position": null,
       "order": null,
       "overflow": null,
       "overflow_x": null,
       "overflow_y": null,
       "padding": null,
       "right": null,
       "top": null,
       "visibility": null,
       "width": null
      }
     },
     "cc9ed28867db4406a189e731147ca192": {
      "model_module": "@jupyter-widgets/controls",
      "model_module_version": "1.5.0",
      "model_name": "HTMLModel",
      "state": {
       "_dom_classes": [],
       "_model_module": "@jupyter-widgets/controls",
       "_model_module_version": "1.5.0",
       "_model_name": "HTMLModel",
       "_view_count": null,
       "_view_module": "@jupyter-widgets/controls",
       "_view_module_version": "1.5.0",
       "_view_name": "HTMLView",
       "description": "",
       "description_tooltip": null,
       "layout": "IPY_MODEL_c83a6c7ea76e4a669f5ea6e75da3e636",
       "placeholder": "​",
       "style": "IPY_MODEL_3375a6d088f94b4ea72093e506ae1c71",
       "value": " 1/1 [00:00&lt;00:00,  1.95it/s]"
      }
     },
     "cd37a23e441846b5ab510473ffb8c36a": {
      "model_module": "@jupyter-widgets/controls",
      "model_module_version": "1.5.0",
      "model_name": "DescriptionStyleModel",
      "state": {
       "_model_module": "@jupyter-widgets/controls",
       "_model_module_version": "1.5.0",
       "_model_name": "DescriptionStyleModel",
       "_view_count": null,
       "_view_module": "@jupyter-widgets/base",
       "_view_module_version": "1.2.0",
       "_view_name": "StyleView",
       "description_width": ""
      }
     },
     "cf71b6807c434d0ca9fd3ae70e45e01f": {
      "model_module": "@jupyter-widgets/controls",
      "model_module_version": "1.5.0",
      "model_name": "FloatProgressModel",
      "state": {
       "_dom_classes": [],
       "_model_module": "@jupyter-widgets/controls",
       "_model_module_version": "1.5.0",
       "_model_name": "FloatProgressModel",
       "_view_count": null,
       "_view_module": "@jupyter-widgets/controls",
       "_view_module_version": "1.5.0",
       "_view_name": "ProgressView",
       "bar_style": "",
       "description": "",
       "description_tooltip": null,
       "layout": "IPY_MODEL_3e49d538b2f341d78538e6f416ad3fcb",
       "max": 1.0,
       "min": 0.0,
       "orientation": "horizontal",
       "style": "IPY_MODEL_e11006436dc448a4bd844166db784c11",
       "value": 1.0
      }
     },
     "d09e35bcf6ee46e7be93bea78cedb12e": {
      "model_module": "@jupyter-widgets/controls",
      "model_module_version": "1.5.0",
      "model_name": "DescriptionStyleModel",
      "state": {
       "_model_module": "@jupyter-widgets/controls",
       "_model_module_version": "1.5.0",
       "_model_name": "DescriptionStyleModel",
       "_view_count": null,
       "_view_module": "@jupyter-widgets/base",
       "_view_module_version": "1.2.0",
       "_view_name": "StyleView",
       "description_width": ""
      }
     },
     "d26ee3bd177d4b4a9d44354a9539c4f9": {
      "model_module": "@jupyter-widgets/controls",
      "model_module_version": "1.5.0",
      "model_name": "DescriptionStyleModel",
      "state": {
       "_model_module": "@jupyter-widgets/controls",
       "_model_module_version": "1.5.0",
       "_model_name": "DescriptionStyleModel",
       "_view_count": null,
       "_view_module": "@jupyter-widgets/base",
       "_view_module_version": "1.2.0",
       "_view_name": "StyleView",
       "description_width": ""
      }
     },
     "d42d36339881428b9a8e1f19fd1caa5f": {
      "model_module": "@jupyter-widgets/base",
      "model_module_version": "1.2.0",
      "model_name": "LayoutModel",
      "state": {
       "_model_module": "@jupyter-widgets/base",
       "_model_module_version": "1.2.0",
       "_model_name": "LayoutModel",
       "_view_count": null,
       "_view_module": "@jupyter-widgets/base",
       "_view_module_version": "1.2.0",
       "_view_name": "LayoutView",
       "align_content": null,
       "align_items": null,
       "align_self": null,
       "border": null,
       "bottom": null,
       "display": null,
       "flex": null,
       "flex_flow": null,
       "grid_area": null,
       "grid_auto_columns": null,
       "grid_auto_flow": null,
       "grid_auto_rows": null,
       "grid_column": null,
       "grid_gap": null,
       "grid_row": null,
       "grid_template_areas": null,
       "grid_template_columns": null,
       "grid_template_rows": null,
       "height": null,
       "justify_content": null,
       "justify_items": null,
       "left": null,
       "margin": null,
       "max_height": null,
       "max_width": null,
       "min_height": null,
       "min_width": null,
       "object_fit": null,
       "object_position": null,
       "order": null,
       "overflow": null,
       "overflow_x": null,
       "overflow_y": null,
       "padding": null,
       "right": null,
       "top": null,
       "visibility": null,
       "width": null
      }
     },
     "d504d61498be43a59100abbb1667f75f": {
      "model_module": "@jupyter-widgets/base",
      "model_module_version": "1.2.0",
      "model_name": "LayoutModel",
      "state": {
       "_model_module": "@jupyter-widgets/base",
       "_model_module_version": "1.2.0",
       "_model_name": "LayoutModel",
       "_view_count": null,
       "_view_module": "@jupyter-widgets/base",
       "_view_module_version": "1.2.0",
       "_view_name": "LayoutView",
       "align_content": null,
       "align_items": null,
       "align_self": null,
       "border": null,
       "bottom": null,
       "display": null,
       "flex": null,
       "flex_flow": null,
       "grid_area": null,
       "grid_auto_columns": null,
       "grid_auto_flow": null,
       "grid_auto_rows": null,
       "grid_column": null,
       "grid_gap": null,
       "grid_row": null,
       "grid_template_areas": null,
       "grid_template_columns": null,
       "grid_template_rows": null,
       "height": null,
       "justify_content": null,
       "justify_items": null,
       "left": null,
       "margin": null,
       "max_height": null,
       "max_width": null,
       "min_height": null,
       "min_width": null,
       "object_fit": null,
       "object_position": null,
       "order": null,
       "overflow": null,
       "overflow_x": null,
       "overflow_y": null,
       "padding": null,
       "right": null,
       "top": null,
       "visibility": null,
       "width": null
      }
     },
     "d78cdb8002a1455dbbb6fb70bfea7e9a": {
      "model_module": "@jupyter-widgets/base",
      "model_module_version": "1.2.0",
      "model_name": "LayoutModel",
      "state": {
       "_model_module": "@jupyter-widgets/base",
       "_model_module_version": "1.2.0",
       "_model_name": "LayoutModel",
       "_view_count": null,
       "_view_module": "@jupyter-widgets/base",
       "_view_module_version": "1.2.0",
       "_view_name": "LayoutView",
       "align_content": null,
       "align_items": null,
       "align_self": null,
       "border": null,
       "bottom": null,
       "display": null,
       "flex": null,
       "flex_flow": null,
       "grid_area": null,
       "grid_auto_columns": null,
       "grid_auto_flow": null,
       "grid_auto_rows": null,
       "grid_column": null,
       "grid_gap": null,
       "grid_row": null,
       "grid_template_areas": null,
       "grid_template_columns": null,
       "grid_template_rows": null,
       "height": null,
       "justify_content": null,
       "justify_items": null,
       "left": null,
       "margin": null,
       "max_height": null,
       "max_width": null,
       "min_height": null,
       "min_width": null,
       "object_fit": null,
       "object_position": null,
       "order": null,
       "overflow": null,
       "overflow_x": null,
       "overflow_y": null,
       "padding": null,
       "right": null,
       "top": null,
       "visibility": null,
       "width": null
      }
     },
     "d7c5ed70e257408d80a6b33be5850db7": {
      "model_module": "@jupyter-widgets/controls",
      "model_module_version": "1.5.0",
      "model_name": "FloatProgressModel",
      "state": {
       "_dom_classes": [],
       "_model_module": "@jupyter-widgets/controls",
       "_model_module_version": "1.5.0",
       "_model_name": "FloatProgressModel",
       "_view_count": null,
       "_view_module": "@jupyter-widgets/controls",
       "_view_module_version": "1.5.0",
       "_view_name": "ProgressView",
       "bar_style": "",
       "description": "",
       "description_tooltip": null,
       "layout": "IPY_MODEL_303b9e483b784e2db6af67ac57c5017d",
       "max": 1.0,
       "min": 0.0,
       "orientation": "horizontal",
       "style": "IPY_MODEL_5cab206ba6a8490a9d999b91cfb13d97",
       "value": 1.0
      }
     },
     "e11006436dc448a4bd844166db784c11": {
      "model_module": "@jupyter-widgets/controls",
      "model_module_version": "1.5.0",
      "model_name": "ProgressStyleModel",
      "state": {
       "_model_module": "@jupyter-widgets/controls",
       "_model_module_version": "1.5.0",
       "_model_name": "ProgressStyleModel",
       "_view_count": null,
       "_view_module": "@jupyter-widgets/base",
       "_view_module_version": "1.2.0",
       "_view_name": "StyleView",
       "bar_color": null,
       "description_width": ""
      }
     },
     "e45926dac27b47eb9e0b1e29163af23e": {
      "model_module": "@jupyter-widgets/controls",
      "model_module_version": "1.5.0",
      "model_name": "ProgressStyleModel",
      "state": {
       "_model_module": "@jupyter-widgets/controls",
       "_model_module_version": "1.5.0",
       "_model_name": "ProgressStyleModel",
       "_view_count": null,
       "_view_module": "@jupyter-widgets/base",
       "_view_module_version": "1.2.0",
       "_view_name": "StyleView",
       "bar_color": null,
       "description_width": ""
      }
     },
     "e641dd44ec20462191b7f166dfa1641e": {
      "model_module": "@jupyter-widgets/controls",
      "model_module_version": "1.5.0",
      "model_name": "FloatProgressModel",
      "state": {
       "_dom_classes": [],
       "_model_module": "@jupyter-widgets/controls",
       "_model_module_version": "1.5.0",
       "_model_name": "FloatProgressModel",
       "_view_count": null,
       "_view_module": "@jupyter-widgets/controls",
       "_view_module_version": "1.5.0",
       "_view_name": "ProgressView",
       "bar_style": "success",
       "description": "",
       "description_tooltip": null,
       "layout": "IPY_MODEL_869d672bdbaa47f48444e7386a805555",
       "max": 7.0,
       "min": 0.0,
       "orientation": "horizontal",
       "style": "IPY_MODEL_774754708aff44229f87c1c721d5784f",
       "value": 7.0
      }
     },
     "ede395fdd6ad469383e6f909e0d5e46c": {
      "model_module": "@jupyter-widgets/base",
      "model_module_version": "1.2.0",
      "model_name": "LayoutModel",
      "state": {
       "_model_module": "@jupyter-widgets/base",
       "_model_module_version": "1.2.0",
       "_model_name": "LayoutModel",
       "_view_count": null,
       "_view_module": "@jupyter-widgets/base",
       "_view_module_version": "1.2.0",
       "_view_name": "LayoutView",
       "align_content": null,
       "align_items": null,
       "align_self": null,
       "border": null,
       "bottom": null,
       "display": null,
       "flex": null,
       "flex_flow": null,
       "grid_area": null,
       "grid_auto_columns": null,
       "grid_auto_flow": null,
       "grid_auto_rows": null,
       "grid_column": null,
       "grid_gap": null,
       "grid_row": null,
       "grid_template_areas": null,
       "grid_template_columns": null,
       "grid_template_rows": null,
       "height": null,
       "justify_content": null,
       "justify_items": null,
       "left": null,
       "margin": null,
       "max_height": null,
       "max_width": null,
       "min_height": null,
       "min_width": null,
       "object_fit": null,
       "object_position": null,
       "order": null,
       "overflow": null,
       "overflow_x": null,
       "overflow_y": null,
       "padding": null,
       "right": null,
       "top": null,
       "visibility": null,
       "width": null
      }
     },
     "efadfa3dce8c4a0e9d2bc05bad12022e": {
      "model_module": "@jupyter-widgets/base",
      "model_module_version": "1.2.0",
      "model_name": "LayoutModel",
      "state": {
       "_model_module": "@jupyter-widgets/base",
       "_model_module_version": "1.2.0",
       "_model_name": "LayoutModel",
       "_view_count": null,
       "_view_module": "@jupyter-widgets/base",
       "_view_module_version": "1.2.0",
       "_view_name": "LayoutView",
       "align_content": null,
       "align_items": null,
       "align_self": null,
       "border": null,
       "bottom": null,
       "display": null,
       "flex": null,
       "flex_flow": null,
       "grid_area": null,
       "grid_auto_columns": null,
       "grid_auto_flow": null,
       "grid_auto_rows": null,
       "grid_column": null,
       "grid_gap": null,
       "grid_row": null,
       "grid_template_areas": null,
       "grid_template_columns": null,
       "grid_template_rows": null,
       "height": null,
       "justify_content": null,
       "justify_items": null,
       "left": null,
       "margin": null,
       "max_height": null,
       "max_width": null,
       "min_height": null,
       "min_width": null,
       "object_fit": null,
       "object_position": null,
       "order": null,
       "overflow": null,
       "overflow_x": null,
       "overflow_y": null,
       "padding": null,
       "right": null,
       "top": null,
       "visibility": null,
       "width": null
      }
     },
     "eff3b90f784c4d2a8d8d775242447e94": {
      "model_module": "@jupyter-widgets/controls",
      "model_module_version": "1.5.0",
      "model_name": "ProgressStyleModel",
      "state": {
       "_model_module": "@jupyter-widgets/controls",
       "_model_module_version": "1.5.0",
       "_model_name": "ProgressStyleModel",
       "_view_count": null,
       "_view_module": "@jupyter-widgets/base",
       "_view_module_version": "1.2.0",
       "_view_name": "StyleView",
       "bar_color": null,
       "description_width": ""
      }
     },
     "f071f6469cba48938ac862ce8b683876": {
      "model_module": "@jupyter-widgets/base",
      "model_module_version": "1.2.0",
      "model_name": "LayoutModel",
      "state": {
       "_model_module": "@jupyter-widgets/base",
       "_model_module_version": "1.2.0",
       "_model_name": "LayoutModel",
       "_view_count": null,
       "_view_module": "@jupyter-widgets/base",
       "_view_module_version": "1.2.0",
       "_view_name": "LayoutView",
       "align_content": null,
       "align_items": null,
       "align_self": null,
       "border": null,
       "bottom": null,
       "display": null,
       "flex": null,
       "flex_flow": null,
       "grid_area": null,
       "grid_auto_columns": null,
       "grid_auto_flow": null,
       "grid_auto_rows": null,
       "grid_column": null,
       "grid_gap": null,
       "grid_row": null,
       "grid_template_areas": null,
       "grid_template_columns": null,
       "grid_template_rows": null,
       "height": null,
       "justify_content": null,
       "justify_items": null,
       "left": null,
       "margin": null,
       "max_height": null,
       "max_width": null,
       "min_height": null,
       "min_width": null,
       "object_fit": null,
       "object_position": null,
       "order": null,
       "overflow": null,
       "overflow_x": null,
       "overflow_y": null,
       "padding": null,
       "right": null,
       "top": null,
       "visibility": "hidden",
       "width": null
      }
     },
     "f10bcf6b39eb453fb8a8aeaef52e689b": {
      "model_module": "@jupyter-widgets/controls",
      "model_module_version": "1.5.0",
      "model_name": "ProgressStyleModel",
      "state": {
       "_model_module": "@jupyter-widgets/controls",
       "_model_module_version": "1.5.0",
       "_model_name": "ProgressStyleModel",
       "_view_count": null,
       "_view_module": "@jupyter-widgets/base",
       "_view_module_version": "1.2.0",
       "_view_name": "StyleView",
       "bar_color": null,
       "description_width": ""
      }
     },
     "f3f520b7377e4c4f86fdee6ae035bb43": {
      "model_module": "@jupyter-widgets/controls",
      "model_module_version": "1.5.0",
      "model_name": "FloatProgressModel",
      "state": {
       "_dom_classes": [],
       "_model_module": "@jupyter-widgets/controls",
       "_model_module_version": "1.5.0",
       "_model_name": "FloatProgressModel",
       "_view_count": null,
       "_view_module": "@jupyter-widgets/controls",
       "_view_module_version": "1.5.0",
       "_view_name": "ProgressView",
       "bar_style": "",
       "description": "",
       "description_tooltip": null,
       "layout": "IPY_MODEL_ac7595c9c16a4b789060778a5f33fdef",
       "max": 1.0,
       "min": 0.0,
       "orientation": "horizontal",
       "style": "IPY_MODEL_f10bcf6b39eb453fb8a8aeaef52e689b",
       "value": 1.0
      }
     },
     "f69f914c4713483a8c67d0b5b390f803": {
      "model_module": "@jupyter-widgets/controls",
      "model_module_version": "1.5.0",
      "model_name": "HTMLModel",
      "state": {
       "_dom_classes": [],
       "_model_module": "@jupyter-widgets/controls",
       "_model_module_version": "1.5.0",
       "_model_name": "HTMLModel",
       "_view_count": null,
       "_view_module": "@jupyter-widgets/controls",
       "_view_module_version": "1.5.0",
       "_view_name": "HTMLView",
       "description": "",
       "description_tooltip": null,
       "layout": "IPY_MODEL_2457791aca7d4413b81f66a0ecc67974",
       "placeholder": "​",
       "style": "IPY_MODEL_b10920b012b84a619e4a5f434e8ab18e",
       "value": " 5/5 [00:24&lt;00:00,  4.65s/it]"
      }
     },
     "fc89dc0b8cb64c7c821b02cb046b4b45": {
      "model_module": "@jupyter-widgets/controls",
      "model_module_version": "1.5.0",
      "model_name": "HBoxModel",
      "state": {
       "_dom_classes": [],
       "_model_module": "@jupyter-widgets/controls",
       "_model_module_version": "1.5.0",
       "_model_name": "HBoxModel",
       "_view_count": null,
       "_view_module": "@jupyter-widgets/controls",
       "_view_module_version": "1.5.0",
       "_view_name": "HBoxView",
       "box_style": "",
       "children": [
        "IPY_MODEL_c15386c64a2949709e7405e98576ad22",
        "IPY_MODEL_6f83793d430944c583e5f34d80f74b5f",
        "IPY_MODEL_f69f914c4713483a8c67d0b5b390f803"
       ],
       "layout": "IPY_MODEL_5bccd5fe40ba435399a6505ef3558cf1"
      }
     },
     "fc9bbb4dd41842408d2e8cc160dbcfd9": {
      "model_module": "@jupyter-widgets/base",
      "model_module_version": "1.2.0",
      "model_name": "LayoutModel",
      "state": {
       "_model_module": "@jupyter-widgets/base",
       "_model_module_version": "1.2.0",
       "_model_name": "LayoutModel",
       "_view_count": null,
       "_view_module": "@jupyter-widgets/base",
       "_view_module_version": "1.2.0",
       "_view_name": "LayoutView",
       "align_content": null,
       "align_items": null,
       "align_self": null,
       "border": null,
       "bottom": null,
       "display": null,
       "flex": null,
       "flex_flow": null,
       "grid_area": null,
       "grid_auto_columns": null,
       "grid_auto_flow": null,
       "grid_auto_rows": null,
       "grid_column": null,
       "grid_gap": null,
       "grid_row": null,
       "grid_template_areas": null,
       "grid_template_columns": null,
       "grid_template_rows": null,
       "height": null,
       "justify_content": null,
       "justify_items": null,
       "left": null,
       "margin": null,
       "max_height": null,
       "max_width": null,
       "min_height": null,
       "min_width": null,
       "object_fit": null,
       "object_position": null,
       "order": null,
       "overflow": null,
       "overflow_x": null,
       "overflow_y": null,
       "padding": null,
       "right": null,
       "top": null,
       "visibility": null,
       "width": null
      }
     },
     "fca0d18d6a4245a29dc610e8b036b0a2": {
      "model_module": "@jupyter-widgets/controls",
      "model_module_version": "1.5.0",
      "model_name": "HBoxModel",
      "state": {
       "_dom_classes": [],
       "_model_module": "@jupyter-widgets/controls",
       "_model_module_version": "1.5.0",
       "_model_name": "HBoxModel",
       "_view_count": null,
       "_view_module": "@jupyter-widgets/controls",
       "_view_module_version": "1.5.0",
       "_view_name": "HBoxView",
       "box_style": "",
       "children": [
        "IPY_MODEL_1b1f24f98f5448e090b064c2e84e10b3",
        "IPY_MODEL_f3f520b7377e4c4f86fdee6ae035bb43",
        "IPY_MODEL_2e93a60fec0a41a493834f0157343e1b"
       ],
       "layout": "IPY_MODEL_0009ba44a9fd44f38bc7f744cdd5b439"
      }
     },
     "ffe41ee1149b4ad3ae614d11d5709676": {
      "model_module": "@jupyter-widgets/controls",
      "model_module_version": "1.5.0",
      "model_name": "HTMLModel",
      "state": {
       "_dom_classes": [],
       "_model_module": "@jupyter-widgets/controls",
       "_model_module_version": "1.5.0",
       "_model_name": "HTMLModel",
       "_view_count": null,
       "_view_module": "@jupyter-widgets/controls",
       "_view_module_version": "1.5.0",
       "_view_name": "HTMLView",
       "description": "",
       "description_tooltip": null,
       "layout": "IPY_MODEL_ede395fdd6ad469383e6f909e0d5e46c",
       "placeholder": "​",
       "style": "IPY_MODEL_0202bf2dfb6a4aafb46ac8851d01d2a3",
       "value": " 1/1 [00:01&lt;00:00,  1.12s/it]"
      }
     },
     "fff5d18d073041e498f402c7fe66bd49": {
      "model_module": "@jupyter-widgets/controls",
      "model_module_version": "1.5.0",
      "model_name": "HBoxModel",
      "state": {
       "_dom_classes": [],
       "_model_module": "@jupyter-widgets/controls",
       "_model_module_version": "1.5.0",
       "_model_name": "HBoxModel",
       "_view_count": null,
       "_view_module": "@jupyter-widgets/controls",
       "_view_module_version": "1.5.0",
       "_view_name": "HBoxView",
       "box_style": "",
       "children": [
        "IPY_MODEL_b17009819e5941ef86089d8b6fa81170",
        "IPY_MODEL_9a275c73db7549c1ac6bfdb8754a2114",
        "IPY_MODEL_9336ba179e8c40aeafcb95189e899946"
       ],
       "layout": "IPY_MODEL_701a9ac14cc849a39b65eee5ccf93df4"
      }
     }
    },
    "version_major": 2,
    "version_minor": 0
   }
  }
 },
 "nbformat": 4,
 "nbformat_minor": 5
}
